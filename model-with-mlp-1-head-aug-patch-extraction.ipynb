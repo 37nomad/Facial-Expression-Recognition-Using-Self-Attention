{
 "cells": [
  {
   "cell_type": "code",
   "execution_count": 145,
   "id": "a6988846",
   "metadata": {
    "execution": {
     "iopub.execute_input": "2024-10-04T10:27:54.761255Z",
     "iopub.status.busy": "2024-10-04T10:27:54.760655Z",
     "iopub.status.idle": "2024-10-04T10:27:54.768695Z",
     "shell.execute_reply": "2024-10-04T10:27:54.767734Z",
     "shell.execute_reply.started": "2024-10-04T10:27:54.761211Z"
    },
    "id": "579e9c4f-bb81-401a-9280-d215be513669"
   },
   "outputs": [],
   "source": [
    "import torch\n",
    "import torch.nn as nn\n",
    "import math\n",
    "import torch.utils.model_zoo as model_zoo\n",
    "import torchvision.transforms as transforms\n",
    "from torchvision.datasets import ImageFolder\n",
    "from torch.utils.data import DataLoader, Dataset\n",
    "import os\n",
    "import pandas as pd\n",
    "from PIL import Image\n",
    "import torch.optim as optim\n",
    "from torch.optim import AdamW\n",
    "from tqdm import tqdm\n",
    "import numpy as np \n",
    "from sklearn.metrics import accuracy_score, confusion_matrix, ConfusionMatrixDisplay\n",
    "import matplotlib.pyplot as plt\n",
    "import seaborn as sns\n",
    "import torch.nn.functional as F"
   ]
  },
  {
   "cell_type": "code",
   "execution_count": 146,
   "id": "243c8e0e",
   "metadata": {
    "execution": {
     "iopub.execute_input": "2024-10-04T10:27:55.081428Z",
     "iopub.status.busy": "2024-10-04T10:27:55.081095Z",
     "iopub.status.idle": "2024-10-04T10:27:55.086020Z",
     "shell.execute_reply": "2024-10-04T10:27:55.084994Z",
     "shell.execute_reply.started": "2024-10-04T10:27:55.081396Z"
    },
    "id": "18e6d001-c057-4580-a5ff-d1f20c1b1f1b"
   },
   "outputs": [],
   "source": [
    "model_urls = {\n",
    "    'resnet18': 'https://download.pytorch.org/models/resnet18-5c106cde.pth',\n",
    "    # 'resnet34': 'https://download.pytorch.org/models/resnet34-333f7ec4.pth',\n",
    "    # 'resnet50': 'https://download.pytorch.org/models/resnet50-19c8e357.pth',\n",
    "    # 'resnet101': 'https://download.pytorch.org/models/resnet101-5d3b4d8f.pth',\n",
    "    # 'resnet152': 'https://download.pytorch.org/models/resnet152-b121ed2d.pth',\n",
    "}"
   ]
  },
  {
   "cell_type": "code",
   "execution_count": 147,
   "id": "5016aca4",
   "metadata": {
    "execution": {
     "iopub.execute_input": "2024-10-04T10:27:56.108771Z",
     "iopub.status.busy": "2024-10-04T10:27:56.108459Z",
     "iopub.status.idle": "2024-10-04T10:27:56.113936Z",
     "shell.execute_reply": "2024-10-04T10:27:56.112900Z",
     "shell.execute_reply.started": "2024-10-04T10:27:56.108738Z"
    },
    "id": "489ff69f-8164-49fa-b930-ca293d6bf96a"
   },
   "outputs": [],
   "source": [
    "def conv3x3(in_planes, out_planes, stride=1):\n",
    "    \"3x3 convolution with padding\"\n",
    "    return nn.Conv2d(in_planes, out_planes, kernel_size=3, stride=stride,\n",
    "                     padding=1, bias=False)"
   ]
  },
  {
   "cell_type": "code",
   "execution_count": 148,
   "id": "1b4a80fc",
   "metadata": {
    "execution": {
     "iopub.execute_input": "2024-10-04T10:27:56.609974Z",
     "iopub.status.busy": "2024-10-04T10:27:56.609196Z",
     "iopub.status.idle": "2024-10-04T10:27:56.616591Z",
     "shell.execute_reply": "2024-10-04T10:27:56.615729Z",
     "shell.execute_reply.started": "2024-10-04T10:27:56.609927Z"
    },
    "id": "ddcf8890-3b5f-4cf2-9556-2396fc691ed9"
   },
   "outputs": [],
   "source": [
    "class ChannelAttention(nn.Module):\n",
    "    def __init__(self, in_planes, ratio=16):\n",
    "        super(ChannelAttention, self).__init__()\n",
    "        self.avg_pool = nn.AdaptiveAvgPool2d(1) # 1×1×64\n",
    "        self.max_pool = nn.AdaptiveMaxPool2d(1) # 1×1×64\n",
    "\n",
    "        self.fc = nn.Sequential(nn.Conv2d(in_planes, in_planes // 16, 1, bias=False), # 1×1×4\n",
    "                               nn.ReLU(), # 1×1×4\n",
    "                               nn.Conv2d(in_planes // 16, in_planes, 1, bias=False)) # 1×1×64\n",
    "        self.sigmoid = nn.Sigmoid() # 1×1×64\n",
    "\n",
    "    def forward(self, x):\n",
    "        avg_out = self.fc(self.avg_pool(x)) # 1×1×64\n",
    "        max_out = self.fc(self.max_pool(x)) # 1×1×64\n",
    "        out = avg_out + max_out # 1×1×64\n",
    "        return self.sigmoid(out) # 1×1×64"
   ]
  },
  {
   "cell_type": "code",
   "execution_count": 149,
   "id": "22afb0f0",
   "metadata": {
    "execution": {
     "iopub.execute_input": "2024-10-04T10:27:56.969094Z",
     "iopub.status.busy": "2024-10-04T10:27:56.968782Z",
     "iopub.status.idle": "2024-10-04T10:27:56.975608Z",
     "shell.execute_reply": "2024-10-04T10:27:56.974650Z",
     "shell.execute_reply.started": "2024-10-04T10:27:56.969063Z"
    },
    "id": "0260a2df-76c8-413f-a7bf-a1c3b6b97c1f"
   },
   "outputs": [],
   "source": [
    "class SpatialAttention(nn.Module):\n",
    "    def __init__(self, kernel_size=7):\n",
    "        super(SpatialAttention, self).__init__()\n",
    "\n",
    "        self.conv1 = nn.Conv2d(2, 1, kernel_size, padding=kernel_size//2, bias=False)\n",
    "        self.sigmoid = nn.Sigmoid()\n",
    "\n",
    "    def forward(self, x):\n",
    "        avg_out = torch.mean(x, dim=1, keepdim=True) # 56×56×1\n",
    "        max_out, _ = torch.max(x, dim=1, keepdim=True) # 56×56×1\n",
    "        x = torch.cat([avg_out, max_out], dim=1) # 56×56×2\n",
    "        x = self.conv1(x) # 56×56×1\n",
    "        return self.sigmoid(x) # 56×56×1"
   ]
  },
  {
   "cell_type": "code",
   "execution_count": 150,
   "id": "e2a1672a",
   "metadata": {
    "execution": {
     "iopub.execute_input": "2024-10-04T10:27:57.344528Z",
     "iopub.status.busy": "2024-10-04T10:27:57.344228Z",
     "iopub.status.idle": "2024-10-04T10:27:57.354085Z",
     "shell.execute_reply": "2024-10-04T10:27:57.353229Z",
     "shell.execute_reply.started": "2024-10-04T10:27:57.344496Z"
    },
    "id": "41fecb88-333e-4ba1-86e9-a86fd507c273"
   },
   "outputs": [],
   "source": [
    "class BasicBlock(nn.Module):\n",
    "    expansion = 1\n",
    "\n",
    "    def __init__(self, inplanes, planes, stride=1, downsample=None):\n",
    "        super(BasicBlock, self).__init__()\n",
    "        self.conv1 = conv3x3(inplanes, planes, stride) # 56*56*64 \n",
    "        self.bn1 = nn.BatchNorm2d(planes) # 56*56*64 \n",
    "        self.relu = nn.ReLU(inplace=True) # 56*56*64 \n",
    "        self.conv2 = conv3x3(planes, planes) # 56*56*64 \n",
    "        self.bn2 = nn.BatchNorm2d(planes)\n",
    "\n",
    "        self.ca = ChannelAttention(planes)\n",
    "        self.sa = SpatialAttention()\n",
    "\n",
    "        self.downsample = downsample\n",
    "        self.stride = stride\n",
    "\n",
    "    def forward(self, x):\n",
    "        residual = x # 56×56×64, 56×56×64, 56×56×64, 28x28x128\n",
    "\n",
    "        out = self.conv1(x) # 56*56*64, 56×56×64, 28*28*128, 28*28*128\n",
    "        out = self.bn1(out) # 56*56*64, 56×56×64, 28*28*128, 28*28*128\n",
    "        out = self.relu(out) # 56*56*64, 56×56×64, 28*28*128, 28*28*128\n",
    "\n",
    "        out = self.conv2(out) # 56*56*64, 56×56×64, 28*28*128, 28*28*128\n",
    "        out = self.bn2(out) # 56*56*64, 56×56×64, 28*28*128, 28*28*128\n",
    "\n",
    "        out = self.ca(out) * out # (1*1*64) * (56*56*64) = 56*56*64; 56×56×64; 28*28*128; 28*28*128\n",
    "        out = self.sa(out) * out # (56×56×1) * (56×56×64) = 56×56×64; 56×56×64; 28x28x128; 28*28*128\n",
    "\n",
    "        if self.downsample is not None:\n",
    "            residual = self.downsample(x) # 28*28*128, \n",
    "\n",
    "        out += residual # 56×56×64, 56×56×64, 28*28*128, 28*28*128\n",
    "        out = self.relu(out) # 56×56×64, 56×56×64, 28*28*128, 28*28*128\n",
    "\n",
    "        return out"
   ]
  },
  {
   "cell_type": "code",
   "execution_count": 151,
   "id": "7f21ae4f",
   "metadata": {
    "execution": {
     "iopub.execute_input": "2024-10-04T10:27:57.774436Z",
     "iopub.status.busy": "2024-10-04T10:27:57.774124Z",
     "iopub.status.idle": "2024-10-04T10:27:57.783811Z",
     "shell.execute_reply": "2024-10-04T10:27:57.782775Z",
     "shell.execute_reply.started": "2024-10-04T10:27:57.774404Z"
    }
   },
   "outputs": [],
   "source": [
    "class PatchExtraction(nn.Module):\n",
    "    def __init__(self):\n",
    "        super(PatchExtraction, self).__init__()\n",
    "        \n",
    "        # First separable convolution (depthwise + pointwise)\n",
    "        self.depthwise_conv1 = nn.Conv2d(128, 128, kernel_size=4, stride=4, padding=1, groups=128)  # Input: 28*28*128, Output: 7*7*128\n",
    "        self.pointwise_conv1 = nn.Conv2d(128, 128, kernel_size=1, stride=1, padding=0)  # Output: 7*7*128\n",
    "        \n",
    "        # Second separable convolution (depthwise + pointwise)\n",
    "        self.depthwise_conv2 = nn.Conv2d(128, 128, kernel_size=2, stride=2, padding=0, groups=128)  # Output: 3×3×128\n",
    "        self.pointwise_conv2 = nn.Conv2d(128, 128, kernel_size=1, stride=1, padding=0)  # Output: 3×3×128\n",
    "\n",
    "        # Normal Conv (used directly)\n",
    "        self.conv3 = nn.Conv2d(128, 128, kernel_size=1, stride=1, padding=0)  # Output: 3×3×128\n",
    "\n",
    "    def forward(self, x):\n",
    "        # First separable convolution\n",
    "        x = F.relu(self.depthwise_conv1(x))\n",
    "        x = F.relu(self.pointwise_conv1(x))\n",
    "\n",
    "        # Second separable convolution\n",
    "        x = F.relu(self.depthwise_conv2(x))\n",
    "        x = F.relu(self.pointwise_conv2(x))\n",
    "\n",
    "        # Normal convolution\n",
    "        x = F.relu(self.conv3(x))\n",
    "        \n",
    "        return x"
   ]
  },
  {
   "cell_type": "code",
   "execution_count": 152,
   "id": "f1280829",
   "metadata": {
    "execution": {
     "iopub.execute_input": "2024-10-04T10:28:00.685604Z",
     "iopub.status.busy": "2024-10-04T10:28:00.684908Z",
     "iopub.status.idle": "2024-10-04T10:28:00.704977Z",
     "shell.execute_reply": "2024-10-04T10:28:00.704016Z",
     "shell.execute_reply.started": "2024-10-04T10:28:00.685565Z"
    },
    "id": "42b16778-f805-4570-8455-179026a3c972"
   },
   "outputs": [],
   "source": [
    "class ResNet(nn.Module):\n",
    "\n",
    "    def __init__(self, block, layers, num_heads, num_classes=7):\n",
    "        self.inplanes = 64\n",
    "        # self.embed_dim = embed_dim\n",
    "        self.num_heads = num_heads\n",
    "        super(ResNet, self).__init__()\n",
    "        self.conv1 = nn.Conv2d(3, 64, kernel_size=7, stride=2, padding=3,\n",
    "                               bias=False) # 112*112*64\n",
    "        self.bn1 = nn.BatchNorm2d(64) # 112*112*64\n",
    "        self.relu = nn.ReLU(inplace=True) # 112*112*64\n",
    "        self.maxpool = nn.MaxPool2d(kernel_size=3, stride=2, padding=1) # 56*56*64\n",
    "        self.layer1 = self._make_layer(block, 64, layers[0]) # 56×56×64\n",
    "        self.layer2 = self._make_layer(block, 128, layers[1], stride=2) # 28*28*128\n",
    "#         self.layer3 = self._make_layer(block, 256, layers[2], stride=2)\n",
    "        self.patch_extraction = PatchExtraction() # 3*3*128\n",
    "        self.global_avg_pool1 = nn.AdaptiveAvgPool2d(1)\n",
    "        # self.layer4 = self._make_layer(block, 512, layers[3], stride=2)\n",
    "        # self.avgpool = nn.AdaptiveAvgPool2d((1, 1))\n",
    "        # self.fc = nn.Linear(512 * block.expansion, num_classes)\n",
    "        self.attention = nn.MultiheadAttention(128, num_heads)\n",
    "        # Input will be changed to the size 9x32x128 (see below forward code) which will be used as query key value \n",
    "        # weight matrix will have the size 128*(128) as default value (128) is default value we can change this by using vdim and kdim attributes of the class\n",
    "        # else weight matrix will have embed_dim * kdim for key matrix , after multiplying 9x32x128 will be the ouptut like this we will be3 having key query \n",
    "        # value matrix (Q)x(K.T)  query and key transpose multiplication will produce of size 9x32x9 and dividing it with sqrt(128) , this diving saves the \n",
    "        # variance and it gets trained with gradient saturation and finally it applies soft max on to this making each row value sum up to 1 of 9x9 matrix \n",
    "        # this for 32 batch size and multiplying it with 9x32x128 i.e 9x32x9 with 9x32x128 value matrix outputs the matrix 9x32x128\n",
    "        self.layer_norm = nn.LayerNorm(128)\n",
    "        self.global_avg_pool = nn.AdaptiveAvgPool2d(1)\n",
    "        self.linear1 = nn.Linear(128,64)\n",
    "        self.relu1 = nn.ReLU()\n",
    "        self.dropout1 = nn.Dropout(0.5) \n",
    "        self.classifier = nn.Linear(64, num_classes)\n",
    "#         nn.Sequential(\n",
    "#             nn.Linear(256,128),\n",
    "#             nn.ReLU(),\n",
    "#             nn.Dropout(0.5),\n",
    "#             nn.Linear(128, num_classes)\n",
    "#         )\n",
    "\n",
    "        for m in self.classifier.modules():\n",
    "            if isinstance(m, nn.Linear):\n",
    "                fan_out = m.weight.size(0)  # fan-out\n",
    "                fan_in = m.weight.size(1) if m.weight.dim() > 1 else 0  # fan-in\n",
    "                init_range = 1.0 / math.sqrt(fan_in + fan_out)\n",
    "                m.weight.data.uniform_(-init_range, init_range)\n",
    "                if m.bias is not None:\n",
    "                    m.bias.data.zero_()\n",
    "\n",
    "    def _make_layer(self, block, planes, blocks, stride=1):\n",
    "        downsample = None\n",
    "        if stride != 1 or self.inplanes != planes * block.expansion:\n",
    "            downsample = nn.Sequential(\n",
    "                nn.Conv2d(self.inplanes, planes * block.expansion,\n",
    "                          kernel_size=1, stride=stride, bias=False), # 28*28*128\n",
    "                nn.BatchNorm2d(planes * block.expansion), # 28*28*128\n",
    "            )\n",
    "\n",
    "        layers = []\n",
    "        layers.append(block(self.inplanes, planes, stride, downsample))\n",
    "        self.inplanes = planes * block.expansion\n",
    "        for i in range(1, blocks):\n",
    "            layers.append(block(self.inplanes, planes))\n",
    "\n",
    "        return nn.Sequential(*layers)\n",
    "\n",
    "    def forward(self, x):\n",
    "        x = self.conv1(x)\n",
    "        x = self.bn1(x)\n",
    "        x = self.relu(x)\n",
    "        x = self.maxpool(x)\n",
    "\n",
    "        x = self.layer1(x)\n",
    "        x = self.layer2(x)\n",
    "#         x = self.layer3(x)\n",
    "        # x = self.layer4(x)\n",
    "\n",
    "        x = self.patch_extraction(x) \n",
    "        x = self.global_avg_pool1(x)\n",
    "#         x = x.view(x.size(0), -1)\n",
    "        # x = self.avgpool(x)\n",
    "        # x = x.view(x.size(0), -1)\n",
    "        # x = self.fc(x)\n",
    "        batch_size, channels, height, width = x.shape\n",
    "        x = x.view(batch_size, channels, height*width).permute(2,0,1)\n",
    "\n",
    "        query = x\n",
    "        key = x\n",
    "        value = x\n",
    "\n",
    "        attn_output, _ = self.attention(query, key, value)\n",
    "        x = self.layer_norm(attn_output + x)\n",
    "        x = x.permute(0,2,1).view(batch_size, channels, height, width)\n",
    "        # x = nn.functional.adaptive_avg_pool2d(x,1).view(batch_size, -1)\n",
    "        x = self.global_avg_pool(x).view(batch_size, -1)\n",
    "        x = self.linear1(x)\n",
    "        x = self.relu1(x)\n",
    "        x = self.dropout1(x)\n",
    "\n",
    "        logits = self.classifier(x)\n",
    "\n",
    "        return logits"
   ]
  },
  {
   "cell_type": "code",
   "execution_count": 153,
   "id": "36a2af1b",
   "metadata": {
    "execution": {
     "iopub.execute_input": "2024-10-04T10:28:02.229776Z",
     "iopub.status.busy": "2024-10-04T10:28:02.229387Z",
     "iopub.status.idle": "2024-10-04T10:28:02.233891Z",
     "shell.execute_reply": "2024-10-04T10:28:02.232985Z",
     "shell.execute_reply.started": "2024-10-04T10:28:02.229740Z"
    }
   },
   "outputs": [],
   "source": [
    "# def freeze_layers_until(layer_names, model):\n",
    "#     \"\"\"\n",
    "#     Freezes the parameters of layers up to a certain point in the model.\n",
    "    \n",
    "#     :param layer_names: List of layer names to freeze.\n",
    "#     :param model: The model whose layers should be frozen.\n",
    "#     \"\"\"\n",
    "#     for name, param in model.named_parameters():\n",
    "#         if any(layer in name for layer in layer_names):\n",
    "#             param.requires_grad = True"
   ]
  },
  {
   "cell_type": "code",
   "execution_count": 155,
   "id": "6a75d1de",
   "metadata": {
    "execution": {
     "iopub.execute_input": "2024-10-04T10:28:19.375486Z",
     "iopub.status.busy": "2024-10-04T10:28:19.374769Z",
     "iopub.status.idle": "2024-10-04T10:28:19.381313Z",
     "shell.execute_reply": "2024-10-04T10:28:19.380182Z",
     "shell.execute_reply.started": "2024-10-04T10:28:19.375445Z"
    }
   },
   "outputs": [],
   "source": [
    "def resnet18_cbam(pretrained=True, **kwargs):\n",
    "    \"\"\"Constructs a ResNet-18 model.\n",
    "\n",
    "    Args:\n",
    "        pretrained (bool): If True, returns a model pre-trained on ImageNet\n",
    "    \"\"\"\n",
    "    num_heads = 1\n",
    "    model = ResNet(BasicBlock, [2, 2, 2, 2], num_heads)\n",
    "#     if pretrained:\n",
    "#         pretrained_state_dict = model_zoo.load_url(model_urls['resnet18'])\n",
    "#         now_state_dict        = model.state_dict()\n",
    "#         now_state_dict.update(pretrained_state_dict)\n",
    "#         model.load_state_dict(now_state_dict, strict=False)\n",
    "    \n",
    "    # New Code Starts From Here\n",
    "    if pretrained:\n",
    "        checkpoint = torch.load(r\"/kaggle/working/models/epoch_32_acc_82.24_PE_aug_1head_unfreeze_tot20epoch_4heads.pth\")\n",
    "        model.load_state_dict(checkpoint['model_state_dict'],strict=False)\n",
    "    # Ends Here\n",
    "\n",
    "    \n",
    "    return model"
   ]
  },
  {
   "cell_type": "code",
   "execution_count": 156,
   "id": "2cc3e05b",
   "metadata": {
    "execution": {
     "iopub.execute_input": "2024-10-04T10:28:21.607700Z",
     "iopub.status.busy": "2024-10-04T10:28:21.606890Z",
     "iopub.status.idle": "2024-10-04T10:28:21.676041Z",
     "shell.execute_reply": "2024-10-04T10:28:21.675200Z",
     "shell.execute_reply.started": "2024-10-04T10:28:21.607659Z"
    }
   },
   "outputs": [
    {
     "name": "stderr",
     "output_type": "stream",
     "text": [
      "/tmp/ipykernel_30/63054293.py:17: FutureWarning: You are using `torch.load` with `weights_only=False` (the current default value), which uses the default pickle module implicitly. It is possible to construct malicious pickle data which will execute arbitrary code during unpickling (See https://github.com/pytorch/pytorch/blob/main/SECURITY.md#untrusted-models for more details). In a future release, the default value for `weights_only` will be flipped to `True`. This limits the functions that could be executed during unpickling. Arbitrary objects will no longer be allowed to be loaded via this mode unless they are explicitly allowlisted by the user via `torch.serialization.add_safe_globals`. We recommend you start setting `weights_only=True` for any use case where you don't have full control of the loaded file. Please open an issue on GitHub for any issues related to this experimental feature.\n",
      "  checkpoint = torch.load(r\"/kaggle/working/models/epoch_32_acc_82.24_PE_aug_1head_unfreeze_tot20epoch_4heads.pth\")\n"
     ]
    }
   ],
   "source": [
    "model = resnet18_cbam()\n"
   ]
  },
  {
   "cell_type": "code",
   "execution_count": 157,
   "id": "9d8befe2",
   "metadata": {
    "execution": {
     "iopub.execute_input": "2024-10-04T10:28:26.678652Z",
     "iopub.status.busy": "2024-10-04T10:28:26.677804Z",
     "iopub.status.idle": "2024-10-04T10:28:26.682079Z",
     "shell.execute_reply": "2024-10-04T10:28:26.681347Z",
     "shell.execute_reply.started": "2024-10-04T10:28:26.678613Z"
    }
   },
   "outputs": [],
   "source": [
    "# freeze_layers_until(['conv1', 'bn1', 'layer1', 'layer2'], model)"
   ]
  },
  {
   "cell_type": "code",
   "execution_count": 158,
   "id": "488c1cd2",
   "metadata": {
    "execution": {
     "iopub.execute_input": "2024-10-04T10:28:26.684296Z",
     "iopub.status.busy": "2024-10-04T10:28:26.683966Z",
     "iopub.status.idle": "2024-10-04T10:28:26.698317Z",
     "shell.execute_reply": "2024-10-04T10:28:26.697345Z",
     "shell.execute_reply.started": "2024-10-04T10:28:26.684258Z"
    },
    "scrolled": true
   },
   "outputs": [
    {
     "name": "stdout",
     "output_type": "stream",
     "text": [
      "Layer: conv1.weight | Frozen: False\n",
      "Layer: bn1.weight | Frozen: False\n",
      "Layer: bn1.bias | Frozen: False\n",
      "Layer: layer1.0.conv1.weight | Frozen: False\n",
      "Layer: layer1.0.bn1.weight | Frozen: False\n",
      "Layer: layer1.0.bn1.bias | Frozen: False\n",
      "Layer: layer1.0.conv2.weight | Frozen: False\n",
      "Layer: layer1.0.bn2.weight | Frozen: False\n",
      "Layer: layer1.0.bn2.bias | Frozen: False\n",
      "Layer: layer1.0.ca.fc.0.weight | Frozen: False\n",
      "Layer: layer1.0.ca.fc.2.weight | Frozen: False\n",
      "Layer: layer1.0.sa.conv1.weight | Frozen: False\n",
      "Layer: layer1.1.conv1.weight | Frozen: False\n",
      "Layer: layer1.1.bn1.weight | Frozen: False\n",
      "Layer: layer1.1.bn1.bias | Frozen: False\n",
      "Layer: layer1.1.conv2.weight | Frozen: False\n",
      "Layer: layer1.1.bn2.weight | Frozen: False\n",
      "Layer: layer1.1.bn2.bias | Frozen: False\n",
      "Layer: layer1.1.ca.fc.0.weight | Frozen: False\n",
      "Layer: layer1.1.ca.fc.2.weight | Frozen: False\n",
      "Layer: layer1.1.sa.conv1.weight | Frozen: False\n",
      "Layer: layer2.0.conv1.weight | Frozen: False\n",
      "Layer: layer2.0.bn1.weight | Frozen: False\n",
      "Layer: layer2.0.bn1.bias | Frozen: False\n",
      "Layer: layer2.0.conv2.weight | Frozen: False\n",
      "Layer: layer2.0.bn2.weight | Frozen: False\n",
      "Layer: layer2.0.bn2.bias | Frozen: False\n",
      "Layer: layer2.0.ca.fc.0.weight | Frozen: False\n",
      "Layer: layer2.0.ca.fc.2.weight | Frozen: False\n",
      "Layer: layer2.0.sa.conv1.weight | Frozen: False\n",
      "Layer: layer2.0.downsample.0.weight | Frozen: False\n",
      "Layer: layer2.0.downsample.1.weight | Frozen: False\n",
      "Layer: layer2.0.downsample.1.bias | Frozen: False\n",
      "Layer: layer2.1.conv1.weight | Frozen: False\n",
      "Layer: layer2.1.bn1.weight | Frozen: False\n",
      "Layer: layer2.1.bn1.bias | Frozen: False\n",
      "Layer: layer2.1.conv2.weight | Frozen: False\n",
      "Layer: layer2.1.bn2.weight | Frozen: False\n",
      "Layer: layer2.1.bn2.bias | Frozen: False\n",
      "Layer: layer2.1.ca.fc.0.weight | Frozen: False\n",
      "Layer: layer2.1.ca.fc.2.weight | Frozen: False\n",
      "Layer: layer2.1.sa.conv1.weight | Frozen: False\n",
      "Layer: patch_extraction.depthwise_conv1.weight | Frozen: False\n",
      "Layer: patch_extraction.depthwise_conv1.bias | Frozen: False\n",
      "Layer: patch_extraction.pointwise_conv1.weight | Frozen: False\n",
      "Layer: patch_extraction.pointwise_conv1.bias | Frozen: False\n",
      "Layer: patch_extraction.depthwise_conv2.weight | Frozen: False\n",
      "Layer: patch_extraction.depthwise_conv2.bias | Frozen: False\n",
      "Layer: patch_extraction.pointwise_conv2.weight | Frozen: False\n",
      "Layer: patch_extraction.pointwise_conv2.bias | Frozen: False\n",
      "Layer: patch_extraction.conv3.weight | Frozen: False\n",
      "Layer: patch_extraction.conv3.bias | Frozen: False\n",
      "Layer: attention.in_proj_weight | Frozen: False\n",
      "Layer: attention.in_proj_bias | Frozen: False\n",
      "Layer: attention.out_proj.weight | Frozen: False\n",
      "Layer: attention.out_proj.bias | Frozen: False\n",
      "Layer: layer_norm.weight | Frozen: False\n",
      "Layer: layer_norm.bias | Frozen: False\n",
      "Layer: linear1.weight | Frozen: False\n",
      "Layer: linear1.bias | Frozen: False\n",
      "Layer: classifier.weight | Frozen: False\n",
      "Layer: classifier.bias | Frozen: False\n"
     ]
    }
   ],
   "source": [
    "def check_frozen_layers(model):\n",
    "    \"\"\"\n",
    "    Prints whether the parameters in each layer are frozen (requires_grad=False).\n",
    "    \n",
    "    :param model: The model whose layers' freezing status is being checked.\n",
    "    \"\"\"\n",
    "    for name, param in model.named_parameters():\n",
    "        print(f\"Layer: {name} | Frozen: {not param.requires_grad}\")\n",
    "check_frozen_layers(model)"
   ]
  },
  {
   "cell_type": "code",
   "execution_count": 159,
   "id": "72531cd7",
   "metadata": {
    "execution": {
     "iopub.execute_input": "2024-10-04T10:28:33.282921Z",
     "iopub.status.busy": "2024-10-04T10:28:33.282557Z",
     "iopub.status.idle": "2024-10-04T10:28:33.289471Z",
     "shell.execute_reply": "2024-10-04T10:28:33.288394Z",
     "shell.execute_reply.started": "2024-10-04T10:28:33.282885Z"
    }
   },
   "outputs": [
    {
     "data": {
      "text/plain": [
       "device(type='cuda')"
      ]
     },
     "execution_count": 159,
     "metadata": {},
     "output_type": "execute_result"
    }
   ],
   "source": [
    "device = torch.device('cuda' if torch.cuda.is_available() else 'cpu')\n",
    "device"
   ]
  },
  {
   "cell_type": "code",
   "execution_count": 160,
   "id": "3dcf555b",
   "metadata": {
    "execution": {
     "iopub.execute_input": "2024-10-04T10:28:35.870846Z",
     "iopub.status.busy": "2024-10-04T10:28:35.870477Z",
     "iopub.status.idle": "2024-10-04T10:28:35.884385Z",
     "shell.execute_reply": "2024-10-04T10:28:35.883469Z",
     "shell.execute_reply.started": "2024-10-04T10:28:35.870809Z"
    },
    "scrolled": true
   },
   "outputs": [
    {
     "data": {
      "text/plain": [
       "ResNet(\n",
       "  (conv1): Conv2d(3, 64, kernel_size=(7, 7), stride=(2, 2), padding=(3, 3), bias=False)\n",
       "  (bn1): BatchNorm2d(64, eps=1e-05, momentum=0.1, affine=True, track_running_stats=True)\n",
       "  (relu): ReLU(inplace=True)\n",
       "  (maxpool): MaxPool2d(kernel_size=3, stride=2, padding=1, dilation=1, ceil_mode=False)\n",
       "  (layer1): Sequential(\n",
       "    (0): BasicBlock(\n",
       "      (conv1): Conv2d(64, 64, kernel_size=(3, 3), stride=(1, 1), padding=(1, 1), bias=False)\n",
       "      (bn1): BatchNorm2d(64, eps=1e-05, momentum=0.1, affine=True, track_running_stats=True)\n",
       "      (relu): ReLU(inplace=True)\n",
       "      (conv2): Conv2d(64, 64, kernel_size=(3, 3), stride=(1, 1), padding=(1, 1), bias=False)\n",
       "      (bn2): BatchNorm2d(64, eps=1e-05, momentum=0.1, affine=True, track_running_stats=True)\n",
       "      (ca): ChannelAttention(\n",
       "        (avg_pool): AdaptiveAvgPool2d(output_size=1)\n",
       "        (max_pool): AdaptiveMaxPool2d(output_size=1)\n",
       "        (fc): Sequential(\n",
       "          (0): Conv2d(64, 4, kernel_size=(1, 1), stride=(1, 1), bias=False)\n",
       "          (1): ReLU()\n",
       "          (2): Conv2d(4, 64, kernel_size=(1, 1), stride=(1, 1), bias=False)\n",
       "        )\n",
       "        (sigmoid): Sigmoid()\n",
       "      )\n",
       "      (sa): SpatialAttention(\n",
       "        (conv1): Conv2d(2, 1, kernel_size=(7, 7), stride=(1, 1), padding=(3, 3), bias=False)\n",
       "        (sigmoid): Sigmoid()\n",
       "      )\n",
       "    )\n",
       "    (1): BasicBlock(\n",
       "      (conv1): Conv2d(64, 64, kernel_size=(3, 3), stride=(1, 1), padding=(1, 1), bias=False)\n",
       "      (bn1): BatchNorm2d(64, eps=1e-05, momentum=0.1, affine=True, track_running_stats=True)\n",
       "      (relu): ReLU(inplace=True)\n",
       "      (conv2): Conv2d(64, 64, kernel_size=(3, 3), stride=(1, 1), padding=(1, 1), bias=False)\n",
       "      (bn2): BatchNorm2d(64, eps=1e-05, momentum=0.1, affine=True, track_running_stats=True)\n",
       "      (ca): ChannelAttention(\n",
       "        (avg_pool): AdaptiveAvgPool2d(output_size=1)\n",
       "        (max_pool): AdaptiveMaxPool2d(output_size=1)\n",
       "        (fc): Sequential(\n",
       "          (0): Conv2d(64, 4, kernel_size=(1, 1), stride=(1, 1), bias=False)\n",
       "          (1): ReLU()\n",
       "          (2): Conv2d(4, 64, kernel_size=(1, 1), stride=(1, 1), bias=False)\n",
       "        )\n",
       "        (sigmoid): Sigmoid()\n",
       "      )\n",
       "      (sa): SpatialAttention(\n",
       "        (conv1): Conv2d(2, 1, kernel_size=(7, 7), stride=(1, 1), padding=(3, 3), bias=False)\n",
       "        (sigmoid): Sigmoid()\n",
       "      )\n",
       "    )\n",
       "  )\n",
       "  (layer2): Sequential(\n",
       "    (0): BasicBlock(\n",
       "      (conv1): Conv2d(64, 128, kernel_size=(3, 3), stride=(2, 2), padding=(1, 1), bias=False)\n",
       "      (bn1): BatchNorm2d(128, eps=1e-05, momentum=0.1, affine=True, track_running_stats=True)\n",
       "      (relu): ReLU(inplace=True)\n",
       "      (conv2): Conv2d(128, 128, kernel_size=(3, 3), stride=(1, 1), padding=(1, 1), bias=False)\n",
       "      (bn2): BatchNorm2d(128, eps=1e-05, momentum=0.1, affine=True, track_running_stats=True)\n",
       "      (ca): ChannelAttention(\n",
       "        (avg_pool): AdaptiveAvgPool2d(output_size=1)\n",
       "        (max_pool): AdaptiveMaxPool2d(output_size=1)\n",
       "        (fc): Sequential(\n",
       "          (0): Conv2d(128, 8, kernel_size=(1, 1), stride=(1, 1), bias=False)\n",
       "          (1): ReLU()\n",
       "          (2): Conv2d(8, 128, kernel_size=(1, 1), stride=(1, 1), bias=False)\n",
       "        )\n",
       "        (sigmoid): Sigmoid()\n",
       "      )\n",
       "      (sa): SpatialAttention(\n",
       "        (conv1): Conv2d(2, 1, kernel_size=(7, 7), stride=(1, 1), padding=(3, 3), bias=False)\n",
       "        (sigmoid): Sigmoid()\n",
       "      )\n",
       "      (downsample): Sequential(\n",
       "        (0): Conv2d(64, 128, kernel_size=(1, 1), stride=(2, 2), bias=False)\n",
       "        (1): BatchNorm2d(128, eps=1e-05, momentum=0.1, affine=True, track_running_stats=True)\n",
       "      )\n",
       "    )\n",
       "    (1): BasicBlock(\n",
       "      (conv1): Conv2d(128, 128, kernel_size=(3, 3), stride=(1, 1), padding=(1, 1), bias=False)\n",
       "      (bn1): BatchNorm2d(128, eps=1e-05, momentum=0.1, affine=True, track_running_stats=True)\n",
       "      (relu): ReLU(inplace=True)\n",
       "      (conv2): Conv2d(128, 128, kernel_size=(3, 3), stride=(1, 1), padding=(1, 1), bias=False)\n",
       "      (bn2): BatchNorm2d(128, eps=1e-05, momentum=0.1, affine=True, track_running_stats=True)\n",
       "      (ca): ChannelAttention(\n",
       "        (avg_pool): AdaptiveAvgPool2d(output_size=1)\n",
       "        (max_pool): AdaptiveMaxPool2d(output_size=1)\n",
       "        (fc): Sequential(\n",
       "          (0): Conv2d(128, 8, kernel_size=(1, 1), stride=(1, 1), bias=False)\n",
       "          (1): ReLU()\n",
       "          (2): Conv2d(8, 128, kernel_size=(1, 1), stride=(1, 1), bias=False)\n",
       "        )\n",
       "        (sigmoid): Sigmoid()\n",
       "      )\n",
       "      (sa): SpatialAttention(\n",
       "        (conv1): Conv2d(2, 1, kernel_size=(7, 7), stride=(1, 1), padding=(3, 3), bias=False)\n",
       "        (sigmoid): Sigmoid()\n",
       "      )\n",
       "    )\n",
       "  )\n",
       "  (patch_extraction): PatchExtraction(\n",
       "    (depthwise_conv1): Conv2d(128, 128, kernel_size=(4, 4), stride=(4, 4), padding=(1, 1), groups=128)\n",
       "    (pointwise_conv1): Conv2d(128, 128, kernel_size=(1, 1), stride=(1, 1))\n",
       "    (depthwise_conv2): Conv2d(128, 128, kernel_size=(2, 2), stride=(2, 2), groups=128)\n",
       "    (pointwise_conv2): Conv2d(128, 128, kernel_size=(1, 1), stride=(1, 1))\n",
       "    (conv3): Conv2d(128, 128, kernel_size=(1, 1), stride=(1, 1))\n",
       "  )\n",
       "  (global_avg_pool1): AdaptiveAvgPool2d(output_size=1)\n",
       "  (attention): MultiheadAttention(\n",
       "    (out_proj): NonDynamicallyQuantizableLinear(in_features=128, out_features=128, bias=True)\n",
       "  )\n",
       "  (layer_norm): LayerNorm((128,), eps=1e-05, elementwise_affine=True)\n",
       "  (global_avg_pool): AdaptiveAvgPool2d(output_size=1)\n",
       "  (linear1): Linear(in_features=128, out_features=64, bias=True)\n",
       "  (relu1): ReLU()\n",
       "  (dropout1): Dropout(p=0.5, inplace=False)\n",
       "  (classifier): Linear(in_features=64, out_features=7, bias=True)\n",
       ")"
      ]
     },
     "execution_count": 160,
     "metadata": {},
     "output_type": "execute_result"
    }
   ],
   "source": [
    "model.to(device)"
   ]
  },
  {
   "cell_type": "code",
   "execution_count": 161,
   "id": "31fd30bc",
   "metadata": {
    "execution": {
     "iopub.execute_input": "2024-10-04T10:28:54.081620Z",
     "iopub.status.busy": "2024-10-04T10:28:54.080780Z",
     "iopub.status.idle": "2024-10-04T10:28:54.086169Z",
     "shell.execute_reply": "2024-10-04T10:28:54.085217Z",
     "shell.execute_reply.started": "2024-10-04T10:28:54.081576Z"
    },
    "id": "03cd3076-fd58-4de5-a993-fac853812bce"
   },
   "outputs": [],
   "source": [
    "transform = transforms.Compose([\n",
    "    transforms.Resize((224, 224)),\n",
    "    transforms.ToTensor(),\n",
    "])"
   ]
  },
  {
   "cell_type": "code",
   "execution_count": 183,
   "id": "c2b5ac3f",
   "metadata": {
    "execution": {
     "iopub.execute_input": "2024-10-04T10:31:55.476023Z",
     "iopub.status.busy": "2024-10-04T10:31:55.475275Z",
     "iopub.status.idle": "2024-10-04T10:31:55.482111Z",
     "shell.execute_reply": "2024-10-04T10:31:55.481081Z",
     "shell.execute_reply.started": "2024-10-04T10:31:55.475985Z"
    }
   },
   "outputs": [],
   "source": [
    "aug_transform = transforms.Compose([\n",
    "    transforms.Resize((224, 224)),  # Resize the image to 224x224\n",
    "    transforms.RandomHorizontalFlip(),  # Randomly flip the image horizontally\n",
    "    transforms.RandomRotation(10),  # Randomly rotate the image by up to 10 degrees\n",
    "    transforms.ColorJitter(brightness=0.2, contrast=0.2, saturation=0.2, hue=0.1),  # Randomly change brightness, contrast, saturation, and hue\n",
    "    transforms.RandomAffine(degrees=0, translate=(0.1, 0.1), scale=(0.9, 1.1), shear=10),\n",
    "    transforms.ToTensor(),  # Convert the image to a PyTorch tensor\n",
    "])"
   ]
  },
  {
   "cell_type": "markdown",
   "id": "960e4994",
   "metadata": {
    "id": "a2eb0ecd-292c-41ab-b5ee-d250558f39d9"
   },
   "source": [
    "# Class Labels are 0-Indexed CAREFULL"
   ]
  },
  {
   "cell_type": "code",
   "execution_count": 163,
   "id": "9938fc8f",
   "metadata": {
    "execution": {
     "iopub.execute_input": "2024-10-04T10:28:58.346783Z",
     "iopub.status.busy": "2024-10-04T10:28:58.346034Z",
     "iopub.status.idle": "2024-10-04T10:28:58.354903Z",
     "shell.execute_reply": "2024-10-04T10:28:58.353827Z",
     "shell.execute_reply.started": "2024-10-04T10:28:58.346745Z"
    },
    "id": "b7badb95-b47f-42ab-85dc-d1e02aa63d0b"
   },
   "outputs": [],
   "source": [
    "class CustomImageDataset(Dataset):\n",
    "    def __init__(self, image_dir, csv_file, transform=None):\n",
    "        self.image_dir = image_dir\n",
    "        self.transform = transform\n",
    "\n",
    "        # Read the CSV file\n",
    "        self.data_frame = pd.read_csv(csv_file)\n",
    "\n",
    "        # Ensure the CSV file has columns 'filename' and 'class'\n",
    "        assert 'image' in self.data_frame.columns\n",
    "        assert 'label' in self.data_frame.columns\n",
    "\n",
    "    def __len__(self):\n",
    "        return len(self.data_frame)\n",
    "\n",
    "    def __getitem__(self, idx):\n",
    "        # Get the filename and class label\n",
    "        img_name = self.data_frame.iloc[idx, 0]  # Get the filename from the CSV\n",
    "        class_label = self.data_frame.iloc[idx, 1] - 1  # Get the class label from the CSV\n",
    "\n",
    "        # Construct the path to the image based on its class label\n",
    "        class_folder = os.path.join(self.image_dir, str(class_label+1))  # Convert class label to string\n",
    "        img_path = os.path.join(class_folder, img_name)\n",
    "\n",
    "        # Load the image\n",
    "        image = Image.open(img_path).convert('RGB')\n",
    "\n",
    "        # Apply transformations\n",
    "        if self.transform:\n",
    "            image = self.transform(image)\n",
    "\n",
    "        return image, class_label"
   ]
  },
  {
   "cell_type": "code",
   "execution_count": 164,
   "id": "7c3ee491",
   "metadata": {
    "execution": {
     "iopub.execute_input": "2024-10-04T10:28:59.349835Z",
     "iopub.status.busy": "2024-10-04T10:28:59.349284Z",
     "iopub.status.idle": "2024-10-04T10:28:59.353786Z",
     "shell.execute_reply": "2024-10-04T10:28:59.352837Z",
     "shell.execute_reply.started": "2024-10-04T10:28:59.349797Z"
    },
    "id": "aa27ec16-927e-4e09-b749-8a6d18011972"
   },
   "outputs": [],
   "source": [
    "image_directory = r\"/kaggle/input/raf-db-dataset/DATASET/train\"  # Directory containing class subfolders\n",
    "csv_file_path = r\"/kaggle/input/raf-db-dataset/train_labels.csv\""
   ]
  },
  {
   "cell_type": "code",
   "execution_count": 165,
   "id": "033f887e",
   "metadata": {
    "execution": {
     "iopub.execute_input": "2024-10-04T10:28:59.760035Z",
     "iopub.status.busy": "2024-10-04T10:28:59.759703Z",
     "iopub.status.idle": "2024-10-04T10:28:59.791676Z",
     "shell.execute_reply": "2024-10-04T10:28:59.790926Z",
     "shell.execute_reply.started": "2024-10-04T10:28:59.760000Z"
    },
    "id": "a4ebf758-cb70-4921-aac6-3fc093533fc4"
   },
   "outputs": [],
   "source": [
    "train_dataset = CustomImageDataset(image_dir=image_directory, csv_file=csv_file_path, transform=transform)"
   ]
  },
  {
   "cell_type": "code",
   "execution_count": 184,
   "id": "13940c94",
   "metadata": {
    "execution": {
     "iopub.execute_input": "2024-10-04T10:32:01.014157Z",
     "iopub.status.busy": "2024-10-04T10:32:01.013391Z",
     "iopub.status.idle": "2024-10-04T10:32:01.031629Z",
     "shell.execute_reply": "2024-10-04T10:32:01.030639Z",
     "shell.execute_reply.started": "2024-10-04T10:32:01.014116Z"
    }
   },
   "outputs": [],
   "source": [
    "aug_train_dataset = CustomImageDataset(image_directory, csv_file_path, aug_transform)"
   ]
  },
  {
   "cell_type": "code",
   "execution_count": 167,
   "id": "838086a1",
   "metadata": {
    "execution": {
     "iopub.execute_input": "2024-10-04T10:29:01.436653Z",
     "iopub.status.busy": "2024-10-04T10:29:01.436286Z",
     "iopub.status.idle": "2024-10-04T10:29:01.442467Z",
     "shell.execute_reply": "2024-10-04T10:29:01.441465Z",
     "shell.execute_reply.started": "2024-10-04T10:29:01.436617Z"
    }
   },
   "outputs": [],
   "source": [
    "train_loader = DataLoader(train_dataset, batch_size=32, num_workers=4, pin_memory=True, shuffle=True)"
   ]
  },
  {
   "cell_type": "code",
   "execution_count": 185,
   "id": "038dff18",
   "metadata": {
    "execution": {
     "iopub.execute_input": "2024-10-04T10:32:04.444913Z",
     "iopub.status.busy": "2024-10-04T10:32:04.444349Z",
     "iopub.status.idle": "2024-10-04T10:32:04.449637Z",
     "shell.execute_reply": "2024-10-04T10:32:04.448705Z",
     "shell.execute_reply.started": "2024-10-04T10:32:04.444876Z"
    }
   },
   "outputs": [],
   "source": [
    "aug_train_loader = DataLoader(aug_train_dataset, batch_size=32, num_workers=4, pin_memory=True, shuffle=True)"
   ]
  },
  {
   "cell_type": "code",
   "execution_count": 173,
   "id": "cf590f04",
   "metadata": {
    "execution": {
     "iopub.execute_input": "2024-10-04T10:29:43.368145Z",
     "iopub.status.busy": "2024-10-04T10:29:43.367402Z",
     "iopub.status.idle": "2024-10-04T10:29:43.371911Z",
     "shell.execute_reply": "2024-10-04T10:29:43.370959Z",
     "shell.execute_reply.started": "2024-10-04T10:29:43.368104Z"
    },
    "id": "f74qGWRn4mYD"
   },
   "outputs": [],
   "source": [
    "torch.cuda.empty_cache()"
   ]
  },
  {
   "cell_type": "code",
   "execution_count": 174,
   "id": "cbe620ae",
   "metadata": {
    "execution": {
     "iopub.execute_input": "2024-10-04T10:29:45.969363Z",
     "iopub.status.busy": "2024-10-04T10:29:45.968976Z",
     "iopub.status.idle": "2024-10-04T10:29:45.973751Z",
     "shell.execute_reply": "2024-10-04T10:29:45.972785Z",
     "shell.execute_reply.started": "2024-10-04T10:29:45.969327Z"
    }
   },
   "outputs": [],
   "source": [
    "# checkpoint = torch.load(r\"/kaggle/working/models/epoch_19_acc_79.73_PE_aug_1head_unfreeze_tot20epoch_4heads.pth\")"
   ]
  },
  {
   "cell_type": "code",
   "execution_count": 182,
   "id": "ea02c9cc",
   "metadata": {
    "execution": {
     "iopub.execute_input": "2024-10-04T10:31:48.932481Z",
     "iopub.status.busy": "2024-10-04T10:31:48.932112Z",
     "iopub.status.idle": "2024-10-04T10:31:48.937837Z",
     "shell.execute_reply": "2024-10-04T10:31:48.936910Z",
     "shell.execute_reply.started": "2024-10-04T10:31:48.932448Z"
    },
    "id": "e6c77aa4-7e13-483f-938a-64df57fea96f"
   },
   "outputs": [],
   "source": [
    "criterion = nn.CrossEntropyLoss()\n",
    "# optimizer = optim.Adam(model.parameters(), lr=0.001)\n",
    "optimizer = optim.AdamW(model.parameters(), lr=0.001, weight_decay=0.01)\n",
    "# optimizer.load_state_dict(checkpoint['optimizer_state_dict'])"
   ]
  },
  {
   "cell_type": "code",
   "execution_count": 176,
   "id": "71c336a2",
   "metadata": {
    "execution": {
     "iopub.execute_input": "2024-10-04T10:29:56.808998Z",
     "iopub.status.busy": "2024-10-04T10:29:56.808290Z",
     "iopub.status.idle": "2024-10-04T10:29:56.813583Z",
     "shell.execute_reply": "2024-10-04T10:29:56.812519Z",
     "shell.execute_reply.started": "2024-10-04T10:29:56.808938Z"
    },
    "id": "6BiC9Ry0nqd-"
   },
   "outputs": [],
   "source": [
    "os.makedirs('models', exist_ok=True)"
   ]
  },
  {
   "cell_type": "code",
   "execution_count": 177,
   "id": "bd7f2d15",
   "metadata": {
    "colab": {
     "base_uri": "https://localhost:8080/",
     "height": 55
    },
    "execution": {
     "iopub.execute_input": "2024-10-04T10:30:04.314309Z",
     "iopub.status.busy": "2024-10-04T10:30:04.313431Z",
     "iopub.status.idle": "2024-10-04T10:30:04.319937Z",
     "shell.execute_reply": "2024-10-04T10:30:04.318998Z",
     "shell.execute_reply.started": "2024-10-04T10:30:04.314265Z"
    },
    "id": "TOE5GMazqsMl",
    "outputId": "c30bc8a6-b2f4-42ae-9b4c-73bda762e30a"
   },
   "outputs": [
    {
     "data": {
      "text/plain": [
       "'/kaggle/working'"
      ]
     },
     "execution_count": 177,
     "metadata": {},
     "output_type": "execute_result"
    }
   ],
   "source": [
    "os.getcwd()"
   ]
  },
  {
   "cell_type": "code",
   "execution_count": 178,
   "id": "1d986618",
   "metadata": {
    "execution": {
     "iopub.execute_input": "2024-10-04T10:30:51.339232Z",
     "iopub.status.busy": "2024-10-04T10:30:51.338348Z",
     "iopub.status.idle": "2024-10-04T10:30:51.343271Z",
     "shell.execute_reply": "2024-10-04T10:30:51.342345Z",
     "shell.execute_reply.started": "2024-10-04T10:30:51.339189Z"
    }
   },
   "outputs": [],
   "source": [
    "test_image_directory = r\"/kaggle/input/raf-db-dataset/DATASET/test\"\n",
    "test_csv_file_path = r\"/kaggle/input/raf-db-dataset/test_labels.csv\""
   ]
  },
  {
   "cell_type": "code",
   "execution_count": 179,
   "id": "890ac4e7",
   "metadata": {
    "execution": {
     "iopub.execute_input": "2024-10-04T10:30:52.028257Z",
     "iopub.status.busy": "2024-10-04T10:30:52.027870Z",
     "iopub.status.idle": "2024-10-04T10:30:52.037417Z",
     "shell.execute_reply": "2024-10-04T10:30:52.036547Z",
     "shell.execute_reply.started": "2024-10-04T10:30:52.028222Z"
    }
   },
   "outputs": [],
   "source": [
    "test_dataset = CustomImageDataset(test_image_directory, test_csv_file_path, transform)"
   ]
  },
  {
   "cell_type": "code",
   "execution_count": 180,
   "id": "7a5a342b",
   "metadata": {
    "execution": {
     "iopub.execute_input": "2024-10-04T10:30:52.607598Z",
     "iopub.status.busy": "2024-10-04T10:30:52.607280Z",
     "iopub.status.idle": "2024-10-04T10:30:52.612364Z",
     "shell.execute_reply": "2024-10-04T10:30:52.611448Z",
     "shell.execute_reply.started": "2024-10-04T10:30:52.607565Z"
    }
   },
   "outputs": [],
   "source": [
    "test_loader = DataLoader(test_dataset, batch_size=32, num_workers=4, pin_memory=True, shuffle=True)"
   ]
  },
  {
   "cell_type": "code",
   "execution_count": 186,
   "id": "6baa0848",
   "metadata": {
    "execution": {
     "iopub.execute_input": "2024-10-04T10:32:27.603932Z",
     "iopub.status.busy": "2024-10-04T10:32:27.603550Z",
     "iopub.status.idle": "2024-10-04T10:32:27.615516Z",
     "shell.execute_reply": "2024-10-04T10:32:27.614597Z",
     "shell.execute_reply.started": "2024-10-04T10:32:27.603895Z"
    },
    "id": "29a08383-0aa7-4122-86ae-3bcf8da03420"
   },
   "outputs": [],
   "source": [
    "def train(model, train_loader, test_loader, criterion, optimizer, device, num_epochs=20):\n",
    "    # train_loader = pl.MpDeviceLoader(train_loader, device)\n",
    "    best_accuracy = 0\n",
    "    model.train()\n",
    "    # os.makedirs('models', exist_ok=True)\n",
    "    for epoch in range(1, num_epochs+1):\n",
    "        running_loss = 0.0\n",
    "\n",
    "        for images, labels in tqdm(train_loader):\n",
    "            images, labels = images.to(device), labels.to(device)\n",
    "\n",
    "            optimizer.zero_grad()\n",
    "\n",
    "            outputs=model(images)\n",
    "            loss = criterion(outputs,labels)\n",
    "\n",
    "            loss.backward()\n",
    "            optimizer.step()\n",
    "            # xm.optimizer_step(optimizer)\n",
    "\n",
    "            running_loss += loss.item()\n",
    "        epoch_loss = running_loss / len(train_loader)\n",
    "        print(f'Epoch [{epoch}/{num_epochs}], Loss: {epoch_loss:.4f}')\n",
    "        if epoch > 1 :\n",
    "            model.eval()\n",
    "            correct = 0\n",
    "            total = 0\n",
    "            with torch.no_grad():\n",
    "                for images, labels in tqdm(test_loader):\n",
    "                    images = images.to(device)\n",
    "                    labels = labels.to(device)\n",
    "                    \n",
    "                    logits = model(images)\n",
    "                    \n",
    "                    _, predicted = torch.max(logits, 1)\n",
    "                    total += labels.size(0)  # Add the batch size to total\n",
    "                    correct += (predicted == labels).sum().item()\n",
    "            accuracy = 100*(correct/total)\n",
    "            print(f\"test_Acc : {accuracy}\")\n",
    "                \n",
    "            if accuracy > best_accuracy or epoch==20:\n",
    "                best_accuracy = accuracy\n",
    "                torch.save({'iter': epoch,\n",
    "                        'model_state_dict': model.state_dict(),\n",
    "                        'optimizer_state_dict': optimizer.state_dict(),},\n",
    "                        os.path.join('models', f\"epoch_{epoch}_acc_{accuracy:.2f}_PE_naug_1head_unfreeze_tot20epoch_4heads.pth\"))\n",
    "                print('Model saved.')\n",
    "            model.train()"
   ]
  },
  {
   "cell_type": "code",
   "execution_count": 187,
   "id": "579b9c3f",
   "metadata": {
    "colab": {
     "base_uri": "https://localhost:8080/"
    },
    "execution": {
     "iopub.execute_input": "2024-10-04T10:32:29.735145Z",
     "iopub.status.busy": "2024-10-04T10:32:29.734793Z",
     "iopub.status.idle": "2024-10-04T10:32:29.739531Z",
     "shell.execute_reply": "2024-10-04T10:32:29.738484Z",
     "shell.execute_reply.started": "2024-10-04T10:32:29.735109Z"
    },
    "id": "58970af0-2447-4401-aeee-de55d874ca94",
    "outputId": "b138da59-58d3-410c-a550-7dfb98216bd1"
   },
   "outputs": [],
   "source": [
    "# train(model, train_loader, test_loader, criterion, optimizer, device, num_epochs=20)"
   ]
  },
  {
   "cell_type": "code",
   "execution_count": 188,
   "id": "9b8c4169",
   "metadata": {
    "execution": {
     "iopub.execute_input": "2024-10-04T10:32:41.445205Z",
     "iopub.status.busy": "2024-10-04T10:32:41.444807Z",
     "iopub.status.idle": "2024-10-04T11:05:35.093530Z",
     "shell.execute_reply": "2024-10-04T11:05:35.092384Z",
     "shell.execute_reply.started": "2024-10-04T10:32:41.445168Z"
    }
   },
   "outputs": [
    {
     "name": "stderr",
     "output_type": "stream",
     "text": [
      "100%|██████████| 384/384 [00:49<00:00,  7.82it/s]\n"
     ]
    },
    {
     "name": "stdout",
     "output_type": "stream",
     "text": [
      "Epoch [1/40], Loss: 0.5514\n"
     ]
    },
    {
     "name": "stderr",
     "output_type": "stream",
     "text": [
      "100%|██████████| 384/384 [00:45<00:00,  8.51it/s]\n"
     ]
    },
    {
     "name": "stdout",
     "output_type": "stream",
     "text": [
      "Epoch [2/40], Loss: 0.4996\n"
     ]
    },
    {
     "name": "stderr",
     "output_type": "stream",
     "text": [
      "100%|██████████| 96/96 [00:04<00:00, 21.38it/s]\n"
     ]
    },
    {
     "name": "stdout",
     "output_type": "stream",
     "text": [
      "test_Acc : 80.89960886571056\n",
      "Model saved.\n"
     ]
    },
    {
     "name": "stderr",
     "output_type": "stream",
     "text": [
      "100%|██████████| 384/384 [00:45<00:00,  8.53it/s]\n"
     ]
    },
    {
     "name": "stdout",
     "output_type": "stream",
     "text": [
      "Epoch [3/40], Loss: 0.4889\n"
     ]
    },
    {
     "name": "stderr",
     "output_type": "stream",
     "text": [
      "100%|██████████| 96/96 [00:04<00:00, 22.16it/s]\n"
     ]
    },
    {
     "name": "stdout",
     "output_type": "stream",
     "text": [
      "test_Acc : 79.10691003911343\n"
     ]
    },
    {
     "name": "stderr",
     "output_type": "stream",
     "text": [
      "100%|██████████| 384/384 [00:45<00:00,  8.41it/s]\n"
     ]
    },
    {
     "name": "stdout",
     "output_type": "stream",
     "text": [
      "Epoch [4/40], Loss: 0.4679\n"
     ]
    },
    {
     "name": "stderr",
     "output_type": "stream",
     "text": [
      "100%|██████████| 96/96 [00:03<00:00, 24.57it/s]\n"
     ]
    },
    {
     "name": "stdout",
     "output_type": "stream",
     "text": [
      "test_Acc : 73.79400260756192\n"
     ]
    },
    {
     "name": "stderr",
     "output_type": "stream",
     "text": [
      "100%|██████████| 384/384 [00:46<00:00,  8.33it/s]\n"
     ]
    },
    {
     "name": "stdout",
     "output_type": "stream",
     "text": [
      "Epoch [5/40], Loss: 0.4615\n"
     ]
    },
    {
     "name": "stderr",
     "output_type": "stream",
     "text": [
      "100%|██████████| 96/96 [00:03<00:00, 24.82it/s]\n"
     ]
    },
    {
     "name": "stdout",
     "output_type": "stream",
     "text": [
      "test_Acc : 78.16166883963494\n"
     ]
    },
    {
     "name": "stderr",
     "output_type": "stream",
     "text": [
      "100%|██████████| 384/384 [00:45<00:00,  8.43it/s]\n"
     ]
    },
    {
     "name": "stdout",
     "output_type": "stream",
     "text": [
      "Epoch [6/40], Loss: 0.4624\n"
     ]
    },
    {
     "name": "stderr",
     "output_type": "stream",
     "text": [
      "100%|██████████| 96/96 [00:03<00:00, 24.60it/s]\n"
     ]
    },
    {
     "name": "stdout",
     "output_type": "stream",
     "text": [
      "test_Acc : 78.48761408083442\n"
     ]
    },
    {
     "name": "stderr",
     "output_type": "stream",
     "text": [
      "100%|██████████| 384/384 [00:45<00:00,  8.43it/s]\n"
     ]
    },
    {
     "name": "stdout",
     "output_type": "stream",
     "text": [
      "Epoch [7/40], Loss: 0.4533\n"
     ]
    },
    {
     "name": "stderr",
     "output_type": "stream",
     "text": [
      "100%|██████████| 96/96 [00:03<00:00, 25.06it/s]\n"
     ]
    },
    {
     "name": "stdout",
     "output_type": "stream",
     "text": [
      "test_Acc : 79.46544980443285\n"
     ]
    },
    {
     "name": "stderr",
     "output_type": "stream",
     "text": [
      "100%|██████████| 384/384 [00:44<00:00,  8.57it/s]\n"
     ]
    },
    {
     "name": "stdout",
     "output_type": "stream",
     "text": [
      "Epoch [8/40], Loss: 0.4401\n"
     ]
    },
    {
     "name": "stderr",
     "output_type": "stream",
     "text": [
      "100%|██████████| 96/96 [00:03<00:00, 24.95it/s]\n"
     ]
    },
    {
     "name": "stdout",
     "output_type": "stream",
     "text": [
      "test_Acc : 76.27118644067797\n"
     ]
    },
    {
     "name": "stderr",
     "output_type": "stream",
     "text": [
      "100%|██████████| 384/384 [00:45<00:00,  8.47it/s]\n"
     ]
    },
    {
     "name": "stdout",
     "output_type": "stream",
     "text": [
      "Epoch [9/40], Loss: 0.4373\n"
     ]
    },
    {
     "name": "stderr",
     "output_type": "stream",
     "text": [
      "100%|██████████| 96/96 [00:03<00:00, 24.44it/s]\n"
     ]
    },
    {
     "name": "stdout",
     "output_type": "stream",
     "text": [
      "test_Acc : 77.50977835723599\n"
     ]
    },
    {
     "name": "stderr",
     "output_type": "stream",
     "text": [
      "100%|██████████| 384/384 [00:44<00:00,  8.60it/s]\n"
     ]
    },
    {
     "name": "stdout",
     "output_type": "stream",
     "text": [
      "Epoch [10/40], Loss: 0.4207\n"
     ]
    },
    {
     "name": "stderr",
     "output_type": "stream",
     "text": [
      "100%|██████████| 96/96 [00:03<00:00, 24.90it/s]\n"
     ]
    },
    {
     "name": "stdout",
     "output_type": "stream",
     "text": [
      "test_Acc : 79.5632333767927\n"
     ]
    },
    {
     "name": "stderr",
     "output_type": "stream",
     "text": [
      "100%|██████████| 384/384 [00:45<00:00,  8.43it/s]\n"
     ]
    },
    {
     "name": "stdout",
     "output_type": "stream",
     "text": [
      "Epoch [11/40], Loss: 0.4169\n"
     ]
    },
    {
     "name": "stderr",
     "output_type": "stream",
     "text": [
      "100%|██████████| 96/96 [00:04<00:00, 23.91it/s]\n"
     ]
    },
    {
     "name": "stdout",
     "output_type": "stream",
     "text": [
      "test_Acc : 77.21642764015645\n"
     ]
    },
    {
     "name": "stderr",
     "output_type": "stream",
     "text": [
      "100%|██████████| 384/384 [00:46<00:00,  8.24it/s]\n"
     ]
    },
    {
     "name": "stdout",
     "output_type": "stream",
     "text": [
      "Epoch [12/40], Loss: 0.4219\n"
     ]
    },
    {
     "name": "stderr",
     "output_type": "stream",
     "text": [
      "100%|██████████| 96/96 [00:03<00:00, 24.16it/s]\n"
     ]
    },
    {
     "name": "stdout",
     "output_type": "stream",
     "text": [
      "test_Acc : 79.98696219035202\n"
     ]
    },
    {
     "name": "stderr",
     "output_type": "stream",
     "text": [
      "100%|██████████| 384/384 [00:47<00:00,  8.14it/s]\n"
     ]
    },
    {
     "name": "stdout",
     "output_type": "stream",
     "text": [
      "Epoch [13/40], Loss: 0.4129\n"
     ]
    },
    {
     "name": "stderr",
     "output_type": "stream",
     "text": [
      "100%|██████████| 96/96 [00:04<00:00, 23.84it/s]\n"
     ]
    },
    {
     "name": "stdout",
     "output_type": "stream",
     "text": [
      "test_Acc : 79.75880052151238\n"
     ]
    },
    {
     "name": "stderr",
     "output_type": "stream",
     "text": [
      "100%|██████████| 384/384 [00:46<00:00,  8.29it/s]\n"
     ]
    },
    {
     "name": "stdout",
     "output_type": "stream",
     "text": [
      "Epoch [14/40], Loss: 0.3978\n"
     ]
    },
    {
     "name": "stderr",
     "output_type": "stream",
     "text": [
      "100%|██████████| 96/96 [00:03<00:00, 24.47it/s]\n"
     ]
    },
    {
     "name": "stdout",
     "output_type": "stream",
     "text": [
      "test_Acc : 76.14080834419818\n"
     ]
    },
    {
     "name": "stderr",
     "output_type": "stream",
     "text": [
      "100%|██████████| 384/384 [00:46<00:00,  8.26it/s]\n"
     ]
    },
    {
     "name": "stdout",
     "output_type": "stream",
     "text": [
      "Epoch [15/40], Loss: 0.3977\n"
     ]
    },
    {
     "name": "stderr",
     "output_type": "stream",
     "text": [
      "100%|██████████| 96/96 [00:03<00:00, 24.36it/s]\n"
     ]
    },
    {
     "name": "stdout",
     "output_type": "stream",
     "text": [
      "test_Acc : 76.82529335071709\n"
     ]
    },
    {
     "name": "stderr",
     "output_type": "stream",
     "text": [
      "100%|██████████| 384/384 [00:44<00:00,  8.55it/s]\n"
     ]
    },
    {
     "name": "stdout",
     "output_type": "stream",
     "text": [
      "Epoch [16/40], Loss: 0.3923\n"
     ]
    },
    {
     "name": "stderr",
     "output_type": "stream",
     "text": [
      "100%|██████████| 96/96 [00:04<00:00, 23.27it/s]\n"
     ]
    },
    {
     "name": "stdout",
     "output_type": "stream",
     "text": [
      "test_Acc : 79.30247718383312\n"
     ]
    },
    {
     "name": "stderr",
     "output_type": "stream",
     "text": [
      "100%|██████████| 384/384 [00:45<00:00,  8.40it/s]\n"
     ]
    },
    {
     "name": "stdout",
     "output_type": "stream",
     "text": [
      "Epoch [17/40], Loss: 0.3719\n"
     ]
    },
    {
     "name": "stderr",
     "output_type": "stream",
     "text": [
      "100%|██████████| 96/96 [00:03<00:00, 25.35it/s]\n"
     ]
    },
    {
     "name": "stdout",
     "output_type": "stream",
     "text": [
      "test_Acc : 78.94393741851368\n"
     ]
    },
    {
     "name": "stderr",
     "output_type": "stream",
     "text": [
      "100%|██████████| 384/384 [00:44<00:00,  8.56it/s]\n"
     ]
    },
    {
     "name": "stdout",
     "output_type": "stream",
     "text": [
      "Epoch [18/40], Loss: 0.3796\n"
     ]
    },
    {
     "name": "stderr",
     "output_type": "stream",
     "text": [
      "100%|██████████| 96/96 [00:03<00:00, 24.95it/s]\n"
     ]
    },
    {
     "name": "stdout",
     "output_type": "stream",
     "text": [
      "test_Acc : 72.16427640156454\n"
     ]
    },
    {
     "name": "stderr",
     "output_type": "stream",
     "text": [
      "100%|██████████| 384/384 [00:45<00:00,  8.46it/s]\n"
     ]
    },
    {
     "name": "stdout",
     "output_type": "stream",
     "text": [
      "Epoch [19/40], Loss: 0.3812\n"
     ]
    },
    {
     "name": "stderr",
     "output_type": "stream",
     "text": [
      "100%|██████████| 96/96 [00:03<00:00, 24.73it/s]\n"
     ]
    },
    {
     "name": "stdout",
     "output_type": "stream",
     "text": [
      "test_Acc : 78.748370273794\n"
     ]
    },
    {
     "name": "stderr",
     "output_type": "stream",
     "text": [
      "100%|██████████| 384/384 [00:44<00:00,  8.55it/s]\n"
     ]
    },
    {
     "name": "stdout",
     "output_type": "stream",
     "text": [
      "Epoch [20/40], Loss: 0.3628\n"
     ]
    },
    {
     "name": "stderr",
     "output_type": "stream",
     "text": [
      "100%|██████████| 96/96 [00:04<00:00, 23.46it/s]\n"
     ]
    },
    {
     "name": "stdout",
     "output_type": "stream",
     "text": [
      "test_Acc : 77.8031290743155\n",
      "Model saved.\n"
     ]
    },
    {
     "name": "stderr",
     "output_type": "stream",
     "text": [
      "100%|██████████| 384/384 [00:44<00:00,  8.54it/s]\n"
     ]
    },
    {
     "name": "stdout",
     "output_type": "stream",
     "text": [
      "Epoch [21/40], Loss: 0.3804\n"
     ]
    },
    {
     "name": "stderr",
     "output_type": "stream",
     "text": [
      "100%|██████████| 96/96 [00:03<00:00, 24.52it/s]\n"
     ]
    },
    {
     "name": "stdout",
     "output_type": "stream",
     "text": [
      "test_Acc : 77.83572359843546\n",
      "Model saved.\n"
     ]
    },
    {
     "name": "stderr",
     "output_type": "stream",
     "text": [
      "100%|██████████| 384/384 [00:44<00:00,  8.62it/s]\n"
     ]
    },
    {
     "name": "stdout",
     "output_type": "stream",
     "text": [
      "Epoch [22/40], Loss: 0.3665\n"
     ]
    },
    {
     "name": "stderr",
     "output_type": "stream",
     "text": [
      "100%|██████████| 96/96 [00:03<00:00, 24.01it/s]\n"
     ]
    },
    {
     "name": "stdout",
     "output_type": "stream",
     "text": [
      "test_Acc : 78.42242503259452\n",
      "Model saved.\n"
     ]
    },
    {
     "name": "stderr",
     "output_type": "stream",
     "text": [
      "100%|██████████| 384/384 [00:44<00:00,  8.55it/s]\n"
     ]
    },
    {
     "name": "stdout",
     "output_type": "stream",
     "text": [
      "Epoch [23/40], Loss: 0.3683\n"
     ]
    },
    {
     "name": "stderr",
     "output_type": "stream",
     "text": [
      "100%|██████████| 96/96 [00:03<00:00, 25.03it/s]\n"
     ]
    },
    {
     "name": "stdout",
     "output_type": "stream",
     "text": [
      "test_Acc : 79.75880052151238\n",
      "Model saved.\n"
     ]
    },
    {
     "name": "stderr",
     "output_type": "stream",
     "text": [
      "100%|██████████| 384/384 [00:44<00:00,  8.56it/s]\n"
     ]
    },
    {
     "name": "stdout",
     "output_type": "stream",
     "text": [
      "Epoch [24/40], Loss: 0.3535\n"
     ]
    },
    {
     "name": "stderr",
     "output_type": "stream",
     "text": [
      "100%|██████████| 96/96 [00:04<00:00, 23.49it/s]\n"
     ]
    },
    {
     "name": "stdout",
     "output_type": "stream",
     "text": [
      "test_Acc : 76.01043024771839\n"
     ]
    },
    {
     "name": "stderr",
     "output_type": "stream",
     "text": [
      "100%|██████████| 384/384 [00:45<00:00,  8.49it/s]\n"
     ]
    },
    {
     "name": "stdout",
     "output_type": "stream",
     "text": [
      "Epoch [25/40], Loss: 0.3612\n"
     ]
    },
    {
     "name": "stderr",
     "output_type": "stream",
     "text": [
      "100%|██████████| 96/96 [00:03<00:00, 24.94it/s]\n"
     ]
    },
    {
     "name": "stdout",
     "output_type": "stream",
     "text": [
      "test_Acc : 77.34680573663624\n"
     ]
    },
    {
     "name": "stderr",
     "output_type": "stream",
     "text": [
      "100%|██████████| 384/384 [00:45<00:00,  8.50it/s]\n"
     ]
    },
    {
     "name": "stdout",
     "output_type": "stream",
     "text": [
      "Epoch [26/40], Loss: 0.3523\n"
     ]
    },
    {
     "name": "stderr",
     "output_type": "stream",
     "text": [
      "100%|██████████| 96/96 [00:04<00:00, 22.37it/s]\n"
     ]
    },
    {
     "name": "stdout",
     "output_type": "stream",
     "text": [
      "test_Acc : 77.73794002607562\n"
     ]
    },
    {
     "name": "stderr",
     "output_type": "stream",
     "text": [
      "100%|██████████| 384/384 [00:45<00:00,  8.53it/s]\n"
     ]
    },
    {
     "name": "stdout",
     "output_type": "stream",
     "text": [
      "Epoch [27/40], Loss: 0.3470\n"
     ]
    },
    {
     "name": "stderr",
     "output_type": "stream",
     "text": [
      "100%|██████████| 96/96 [00:04<00:00, 23.96it/s]\n"
     ]
    },
    {
     "name": "stdout",
     "output_type": "stream",
     "text": [
      "test_Acc : 76.79269882659713\n"
     ]
    },
    {
     "name": "stderr",
     "output_type": "stream",
     "text": [
      "100%|██████████| 384/384 [00:45<00:00,  8.52it/s]\n"
     ]
    },
    {
     "name": "stdout",
     "output_type": "stream",
     "text": [
      "Epoch [28/40], Loss: 0.3440\n"
     ]
    },
    {
     "name": "stderr",
     "output_type": "stream",
     "text": [
      "100%|██████████| 96/96 [00:04<00:00, 22.31it/s]\n"
     ]
    },
    {
     "name": "stdout",
     "output_type": "stream",
     "text": [
      "test_Acc : 78.748370273794\n"
     ]
    },
    {
     "name": "stderr",
     "output_type": "stream",
     "text": [
      "100%|██████████| 384/384 [00:44<00:00,  8.56it/s]\n"
     ]
    },
    {
     "name": "stdout",
     "output_type": "stream",
     "text": [
      "Epoch [29/40], Loss: 0.3365\n"
     ]
    },
    {
     "name": "stderr",
     "output_type": "stream",
     "text": [
      "100%|██████████| 96/96 [00:03<00:00, 24.62it/s]\n"
     ]
    },
    {
     "name": "stdout",
     "output_type": "stream",
     "text": [
      "test_Acc : 77.57496740547587\n"
     ]
    },
    {
     "name": "stderr",
     "output_type": "stream",
     "text": [
      "100%|██████████| 384/384 [00:44<00:00,  8.57it/s]\n"
     ]
    },
    {
     "name": "stdout",
     "output_type": "stream",
     "text": [
      "Epoch [30/40], Loss: 0.3443\n"
     ]
    },
    {
     "name": "stderr",
     "output_type": "stream",
     "text": [
      "100%|██████████| 96/96 [00:04<00:00, 22.33it/s]\n"
     ]
    },
    {
     "name": "stdout",
     "output_type": "stream",
     "text": [
      "test_Acc : 79.92177314211213\n",
      "Model saved.\n"
     ]
    },
    {
     "name": "stderr",
     "output_type": "stream",
     "text": [
      "100%|██████████| 384/384 [00:44<00:00,  8.58it/s]\n"
     ]
    },
    {
     "name": "stdout",
     "output_type": "stream",
     "text": [
      "Epoch [31/40], Loss: 0.3317\n"
     ]
    },
    {
     "name": "stderr",
     "output_type": "stream",
     "text": [
      "100%|██████████| 96/96 [00:03<00:00, 24.30it/s]\n"
     ]
    },
    {
     "name": "stdout",
     "output_type": "stream",
     "text": [
      "test_Acc : 78.38983050847457\n"
     ]
    },
    {
     "name": "stderr",
     "output_type": "stream",
     "text": [
      "100%|██████████| 384/384 [00:44<00:00,  8.59it/s]\n"
     ]
    },
    {
     "name": "stdout",
     "output_type": "stream",
     "text": [
      "Epoch [32/40], Loss: 0.3172\n"
     ]
    },
    {
     "name": "stderr",
     "output_type": "stream",
     "text": [
      "100%|██████████| 96/96 [00:04<00:00, 22.29it/s]\n"
     ]
    },
    {
     "name": "stdout",
     "output_type": "stream",
     "text": [
      "test_Acc : 73.3702737940026\n"
     ]
    },
    {
     "name": "stderr",
     "output_type": "stream",
     "text": [
      "100%|██████████| 384/384 [00:44<00:00,  8.62it/s]\n"
     ]
    },
    {
     "name": "stdout",
     "output_type": "stream",
     "text": [
      "Epoch [33/40], Loss: 0.3309\n"
     ]
    },
    {
     "name": "stderr",
     "output_type": "stream",
     "text": [
      "100%|██████████| 96/96 [00:03<00:00, 25.09it/s]\n"
     ]
    },
    {
     "name": "stdout",
     "output_type": "stream",
     "text": [
      "test_Acc : 79.98696219035202\n",
      "Model saved.\n"
     ]
    },
    {
     "name": "stderr",
     "output_type": "stream",
     "text": [
      "100%|██████████| 384/384 [00:44<00:00,  8.59it/s]\n"
     ]
    },
    {
     "name": "stdout",
     "output_type": "stream",
     "text": [
      "Epoch [34/40], Loss: 0.3286\n"
     ]
    },
    {
     "name": "stderr",
     "output_type": "stream",
     "text": [
      "100%|██████████| 96/96 [00:04<00:00, 22.57it/s]\n"
     ]
    },
    {
     "name": "stdout",
     "output_type": "stream",
     "text": [
      "test_Acc : 79.82398956975229\n"
     ]
    },
    {
     "name": "stderr",
     "output_type": "stream",
     "text": [
      "100%|██████████| 384/384 [00:44<00:00,  8.55it/s]\n"
     ]
    },
    {
     "name": "stdout",
     "output_type": "stream",
     "text": [
      "Epoch [35/40], Loss: 0.3024\n"
     ]
    },
    {
     "name": "stderr",
     "output_type": "stream",
     "text": [
      "100%|██████████| 96/96 [00:03<00:00, 25.07it/s]\n"
     ]
    },
    {
     "name": "stdout",
     "output_type": "stream",
     "text": [
      "test_Acc : 76.10821382007823\n"
     ]
    },
    {
     "name": "stderr",
     "output_type": "stream",
     "text": [
      "100%|██████████| 384/384 [00:44<00:00,  8.55it/s]\n"
     ]
    },
    {
     "name": "stdout",
     "output_type": "stream",
     "text": [
      "Epoch [36/40], Loss: 0.3289\n"
     ]
    },
    {
     "name": "stderr",
     "output_type": "stream",
     "text": [
      "100%|██████████| 96/96 [00:04<00:00, 22.33it/s]\n"
     ]
    },
    {
     "name": "stdout",
     "output_type": "stream",
     "text": [
      "test_Acc : 79.6284224250326\n"
     ]
    },
    {
     "name": "stderr",
     "output_type": "stream",
     "text": [
      "100%|██████████| 384/384 [00:44<00:00,  8.59it/s]\n"
     ]
    },
    {
     "name": "stdout",
     "output_type": "stream",
     "text": [
      "Epoch [37/40], Loss: 0.3170\n"
     ]
    },
    {
     "name": "stderr",
     "output_type": "stream",
     "text": [
      "100%|██████████| 96/96 [00:03<00:00, 24.51it/s]\n"
     ]
    },
    {
     "name": "stdout",
     "output_type": "stream",
     "text": [
      "test_Acc : 79.26988265971316\n"
     ]
    },
    {
     "name": "stderr",
     "output_type": "stream",
     "text": [
      "100%|██████████| 384/384 [00:48<00:00,  7.85it/s]\n"
     ]
    },
    {
     "name": "stdout",
     "output_type": "stream",
     "text": [
      "Epoch [38/40], Loss: 0.3136\n"
     ]
    },
    {
     "name": "stderr",
     "output_type": "stream",
     "text": [
      "100%|██████████| 96/96 [00:03<00:00, 24.76it/s]\n"
     ]
    },
    {
     "name": "stdout",
     "output_type": "stream",
     "text": [
      "test_Acc : 76.59713168187744\n"
     ]
    },
    {
     "name": "stderr",
     "output_type": "stream",
     "text": [
      "100%|██████████| 384/384 [00:45<00:00,  8.52it/s]\n"
     ]
    },
    {
     "name": "stdout",
     "output_type": "stream",
     "text": [
      "Epoch [39/40], Loss: 0.3111\n"
     ]
    },
    {
     "name": "stderr",
     "output_type": "stream",
     "text": [
      "100%|██████████| 96/96 [00:03<00:00, 24.92it/s]\n"
     ]
    },
    {
     "name": "stdout",
     "output_type": "stream",
     "text": [
      "test_Acc : 79.367666232073\n"
     ]
    },
    {
     "name": "stderr",
     "output_type": "stream",
     "text": [
      "100%|██████████| 384/384 [00:45<00:00,  8.43it/s]\n"
     ]
    },
    {
     "name": "stdout",
     "output_type": "stream",
     "text": [
      "Epoch [40/40], Loss: 0.3010\n"
     ]
    },
    {
     "name": "stderr",
     "output_type": "stream",
     "text": [
      "100%|██████████| 96/96 [00:03<00:00, 25.05it/s]"
     ]
    },
    {
     "name": "stdout",
     "output_type": "stream",
     "text": [
      "test_Acc : 79.82398956975229\n"
     ]
    },
    {
     "name": "stderr",
     "output_type": "stream",
     "text": [
      "\n"
     ]
    }
   ],
   "source": [
    "train(model, aug_train_loader, test_loader, criterion, optimizer, device, num_epochs=40)"
   ]
  },
  {
   "cell_type": "code",
   "execution_count": 158,
   "id": "36ab00d3",
   "metadata": {
    "execution": {
     "iopub.execute_input": "2024-10-02T12:51:26.682038Z",
     "iopub.status.busy": "2024-10-02T12:51:26.681047Z",
     "iopub.status.idle": "2024-10-02T12:51:33.963436Z",
     "shell.execute_reply": "2024-10-02T12:51:33.962217Z",
     "shell.execute_reply.started": "2024-10-02T12:51:26.681989Z"
    }
   },
   "outputs": [
    {
     "name": "stderr",
     "output_type": "stream",
     "text": [
      "100%|██████████| 96/96 [00:07<00:00, 13.21it/s]\n"
     ]
    },
    {
     "data": {
      "text/plain": [
       "77.02086049543678"
      ]
     },
     "execution_count": 158,
     "metadata": {},
     "output_type": "execute_result"
    }
   ],
   "source": [
    "model.eval()\n",
    "correct = 0\n",
    "total = 0\n",
    "with torch.no_grad():\n",
    "    for images, labels in tqdm(test_loader):\n",
    "        images = images.to(device)\n",
    "        labels = labels.to(device)\n",
    "        \n",
    "        logits = model(images)\n",
    "        \n",
    "        _, predicted = torch.max(logits, 1)\n",
    "        total += labels.size(0)  # Add the batch size to total\n",
    "        correct += (predicted == labels).sum().item()\n",
    "accuracy = 100*(correct/total)\n",
    "\n",
    "\n",
    "\n",
    "\n",
    "accuracy\n"
   ]
  },
  {
   "cell_type": "code",
   "execution_count": null,
   "id": "8c9d4bb2",
   "metadata": {
    "execution": {
     "iopub.status.busy": "2024-10-02T10:51:41.590300Z",
     "iopub.status.idle": "2024-10-02T10:51:41.590693Z",
     "shell.execute_reply": "2024-10-02T10:51:41.590523Z",
     "shell.execute_reply.started": "2024-10-02T10:51:41.590505Z"
    }
   },
   "outputs": [],
   "source": [
    "test_image_directory = r\"/kaggle/input/raf-db-dataset/DATASET/test\"\n",
    "test_csv_file_path = r\"/kaggle/input/raf-db-dataset/test_labels.csv\""
   ]
  },
  {
   "cell_type": "code",
   "execution_count": 37,
   "id": "a7dda0fb",
   "metadata": {
    "execution": {
     "iopub.execute_input": "2024-09-30T16:10:33.721864Z",
     "iopub.status.busy": "2024-09-30T16:10:33.721004Z",
     "iopub.status.idle": "2024-09-30T16:10:33.740430Z",
     "shell.execute_reply": "2024-09-30T16:10:33.739563Z",
     "shell.execute_reply.started": "2024-09-30T16:10:33.721825Z"
    },
    "id": "a78d1b81-84f7-41f7-9f55-ed6cef4a300c"
   },
   "outputs": [],
   "source": [
    "test_dataset = CustomImageDataset(test_image_directory, test_csv_file_path, transform)"
   ]
  },
  {
   "cell_type": "code",
   "execution_count": 38,
   "id": "37567ec6",
   "metadata": {
    "execution": {
     "iopub.execute_input": "2024-09-30T16:10:40.167167Z",
     "iopub.status.busy": "2024-09-30T16:10:40.166521Z",
     "iopub.status.idle": "2024-09-30T16:10:40.171424Z",
     "shell.execute_reply": "2024-09-30T16:10:40.170394Z",
     "shell.execute_reply.started": "2024-09-30T16:10:40.167127Z"
    },
    "id": "dcf42031-0336-4cdc-a490-8ace98c5dd2a"
   },
   "outputs": [],
   "source": [
    "test_loader = DataLoader(test_dataset, batch_size=32,shuffle=False)"
   ]
  },
  {
   "cell_type": "code",
   "execution_count": 46,
   "id": "01c2ec42",
   "metadata": {
    "execution": {
     "iopub.execute_input": "2024-09-30T16:32:19.829627Z",
     "iopub.status.busy": "2024-09-30T16:32:19.829208Z",
     "iopub.status.idle": "2024-09-30T16:32:19.834385Z",
     "shell.execute_reply": "2024-09-30T16:32:19.833520Z",
     "shell.execute_reply.started": "2024-09-30T16:32:19.829586Z"
    }
   },
   "outputs": [],
   "source": [
    "# for file in os.listdir(r\"/kaggle/working/models\") :\n",
    "#     checkpoint = torch.load(os.path.join(r\"/kaggle/working/models\",file))\n",
    "#     model.load_state_dict(checkpoint['model_state_dict'])\n",
    "#     model.eval()\n",
    "#     all_preds=[]\n",
    "#     all_labels=[]\n",
    "#     with torch.no_grad():\n",
    "#         for images, labels in tqdm(test_loader):\n",
    "#             images = images.to(device)\n",
    "#             labels = labels.to(device)\n",
    "#             outputs = model(images)\n",
    "#             _, predicted = torch.max(outputs,1)\n",
    "#     #         predicted+=1\n",
    "\n",
    "#             all_preds.extend(predicted.cpu().numpy())\n",
    "#             all_labels.extend(labels.cpu().numpy())\n",
    "\n",
    "#     all_preds = np.array(all_preds)\n",
    "#     all_labels = np.array(all_labels)\n",
    "    \n",
    "#     accuracy = accuracy_score(all_labels, all_preds)\n",
    "    \n",
    "#     print(f'accuracy: {accuracy:.4f} for {file}')"
   ]
  },
  {
   "cell_type": "code",
   "execution_count": 47,
   "id": "16db01b9",
   "metadata": {
    "execution": {
     "iopub.execute_input": "2024-09-30T16:32:33.907424Z",
     "iopub.status.busy": "2024-09-30T16:32:33.906700Z",
     "iopub.status.idle": "2024-09-30T16:32:33.984127Z",
     "shell.execute_reply": "2024-09-30T16:32:33.983170Z",
     "shell.execute_reply.started": "2024-09-30T16:32:33.907384Z"
    },
    "scrolled": true
   },
   "outputs": [
    {
     "name": "stderr",
     "output_type": "stream",
     "text": [
      "/tmp/ipykernel_30/846673855.py:1: FutureWarning: You are using `torch.load` with `weights_only=False` (the current default value), which uses the default pickle module implicitly. It is possible to construct malicious pickle data which will execute arbitrary code during unpickling (See https://github.com/pytorch/pytorch/blob/main/SECURITY.md#untrusted-models for more details). In a future release, the default value for `weights_only` will be flipped to `True`. This limits the functions that could be executed during unpickling. Arbitrary objects will no longer be allowed to be loaded via this mode unless they are explicitly allowlisted by the user via `torch.serialization.add_safe_globals`. We recommend you start setting `weights_only=True` for any use case where you don't have full control of the loaded file. Please open an issue on GitHub for any issues related to this experimental feature.\n",
      "\n",
      "  checkpoint = torch.load(r\"/kaggle/working/models/tot20epoch_4heads_epoch_13_loss_0.07219641906097725.pth\")\n"
     ]
    }
   ],
   "source": [
    "checkpoint = torch.load(r\"/kaggle/working/models/tot20epoch_4heads_epoch_13_loss_0.07219641906097725.pth\")"
   ]
  },
  {
   "cell_type": "code",
   "execution_count": 48,
   "id": "b89a8e15",
   "metadata": {
    "execution": {
     "iopub.execute_input": "2024-09-30T16:32:37.575934Z",
     "iopub.status.busy": "2024-09-30T16:32:37.575516Z",
     "iopub.status.idle": "2024-09-30T16:32:37.591531Z",
     "shell.execute_reply": "2024-09-30T16:32:37.590545Z",
     "shell.execute_reply.started": "2024-09-30T16:32:37.575896Z"
    },
    "id": "20b57c11-c158-48b1-b0e7-e400f2908577",
    "scrolled": true
   },
   "outputs": [
    {
     "data": {
      "text/plain": [
       "ResNet(\n",
       "  (conv1): Conv2d(3, 64, kernel_size=(7, 7), stride=(2, 2), padding=(3, 3), bias=False)\n",
       "  (bn1): BatchNorm2d(64, eps=1e-05, momentum=0.1, affine=True, track_running_stats=True)\n",
       "  (relu): ReLU(inplace=True)\n",
       "  (maxpool): MaxPool2d(kernel_size=3, stride=2, padding=1, dilation=1, ceil_mode=False)\n",
       "  (layer1): Sequential(\n",
       "    (0): BasicBlock(\n",
       "      (conv1): Conv2d(64, 64, kernel_size=(3, 3), stride=(1, 1), padding=(1, 1), bias=False)\n",
       "      (bn1): BatchNorm2d(64, eps=1e-05, momentum=0.1, affine=True, track_running_stats=True)\n",
       "      (relu): ReLU(inplace=True)\n",
       "      (conv2): Conv2d(64, 64, kernel_size=(3, 3), stride=(1, 1), padding=(1, 1), bias=False)\n",
       "      (bn2): BatchNorm2d(64, eps=1e-05, momentum=0.1, affine=True, track_running_stats=True)\n",
       "      (ca): ChannelAttention(\n",
       "        (avg_pool): AdaptiveAvgPool2d(output_size=1)\n",
       "        (max_pool): AdaptiveMaxPool2d(output_size=1)\n",
       "        (fc): Sequential(\n",
       "          (0): Conv2d(64, 4, kernel_size=(1, 1), stride=(1, 1), bias=False)\n",
       "          (1): ReLU()\n",
       "          (2): Conv2d(4, 64, kernel_size=(1, 1), stride=(1, 1), bias=False)\n",
       "        )\n",
       "        (sigmoid): Sigmoid()\n",
       "      )\n",
       "      (sa): SpatialAttention(\n",
       "        (conv1): Conv2d(2, 1, kernel_size=(7, 7), stride=(1, 1), padding=(3, 3), bias=False)\n",
       "        (sigmoid): Sigmoid()\n",
       "      )\n",
       "    )\n",
       "    (1): BasicBlock(\n",
       "      (conv1): Conv2d(64, 64, kernel_size=(3, 3), stride=(1, 1), padding=(1, 1), bias=False)\n",
       "      (bn1): BatchNorm2d(64, eps=1e-05, momentum=0.1, affine=True, track_running_stats=True)\n",
       "      (relu): ReLU(inplace=True)\n",
       "      (conv2): Conv2d(64, 64, kernel_size=(3, 3), stride=(1, 1), padding=(1, 1), bias=False)\n",
       "      (bn2): BatchNorm2d(64, eps=1e-05, momentum=0.1, affine=True, track_running_stats=True)\n",
       "      (ca): ChannelAttention(\n",
       "        (avg_pool): AdaptiveAvgPool2d(output_size=1)\n",
       "        (max_pool): AdaptiveMaxPool2d(output_size=1)\n",
       "        (fc): Sequential(\n",
       "          (0): Conv2d(64, 4, kernel_size=(1, 1), stride=(1, 1), bias=False)\n",
       "          (1): ReLU()\n",
       "          (2): Conv2d(4, 64, kernel_size=(1, 1), stride=(1, 1), bias=False)\n",
       "        )\n",
       "        (sigmoid): Sigmoid()\n",
       "      )\n",
       "      (sa): SpatialAttention(\n",
       "        (conv1): Conv2d(2, 1, kernel_size=(7, 7), stride=(1, 1), padding=(3, 3), bias=False)\n",
       "        (sigmoid): Sigmoid()\n",
       "      )\n",
       "    )\n",
       "  )\n",
       "  (layer2): Sequential(\n",
       "    (0): BasicBlock(\n",
       "      (conv1): Conv2d(64, 128, kernel_size=(3, 3), stride=(2, 2), padding=(1, 1), bias=False)\n",
       "      (bn1): BatchNorm2d(128, eps=1e-05, momentum=0.1, affine=True, track_running_stats=True)\n",
       "      (relu): ReLU(inplace=True)\n",
       "      (conv2): Conv2d(128, 128, kernel_size=(3, 3), stride=(1, 1), padding=(1, 1), bias=False)\n",
       "      (bn2): BatchNorm2d(128, eps=1e-05, momentum=0.1, affine=True, track_running_stats=True)\n",
       "      (ca): ChannelAttention(\n",
       "        (avg_pool): AdaptiveAvgPool2d(output_size=1)\n",
       "        (max_pool): AdaptiveMaxPool2d(output_size=1)\n",
       "        (fc): Sequential(\n",
       "          (0): Conv2d(128, 8, kernel_size=(1, 1), stride=(1, 1), bias=False)\n",
       "          (1): ReLU()\n",
       "          (2): Conv2d(8, 128, kernel_size=(1, 1), stride=(1, 1), bias=False)\n",
       "        )\n",
       "        (sigmoid): Sigmoid()\n",
       "      )\n",
       "      (sa): SpatialAttention(\n",
       "        (conv1): Conv2d(2, 1, kernel_size=(7, 7), stride=(1, 1), padding=(3, 3), bias=False)\n",
       "        (sigmoid): Sigmoid()\n",
       "      )\n",
       "      (downsample): Sequential(\n",
       "        (0): Conv2d(64, 128, kernel_size=(1, 1), stride=(2, 2), bias=False)\n",
       "        (1): BatchNorm2d(128, eps=1e-05, momentum=0.1, affine=True, track_running_stats=True)\n",
       "      )\n",
       "    )\n",
       "    (1): BasicBlock(\n",
       "      (conv1): Conv2d(128, 128, kernel_size=(3, 3), stride=(1, 1), padding=(1, 1), bias=False)\n",
       "      (bn1): BatchNorm2d(128, eps=1e-05, momentum=0.1, affine=True, track_running_stats=True)\n",
       "      (relu): ReLU(inplace=True)\n",
       "      (conv2): Conv2d(128, 128, kernel_size=(3, 3), stride=(1, 1), padding=(1, 1), bias=False)\n",
       "      (bn2): BatchNorm2d(128, eps=1e-05, momentum=0.1, affine=True, track_running_stats=True)\n",
       "      (ca): ChannelAttention(\n",
       "        (avg_pool): AdaptiveAvgPool2d(output_size=1)\n",
       "        (max_pool): AdaptiveMaxPool2d(output_size=1)\n",
       "        (fc): Sequential(\n",
       "          (0): Conv2d(128, 8, kernel_size=(1, 1), stride=(1, 1), bias=False)\n",
       "          (1): ReLU()\n",
       "          (2): Conv2d(8, 128, kernel_size=(1, 1), stride=(1, 1), bias=False)\n",
       "        )\n",
       "        (sigmoid): Sigmoid()\n",
       "      )\n",
       "      (sa): SpatialAttention(\n",
       "        (conv1): Conv2d(2, 1, kernel_size=(7, 7), stride=(1, 1), padding=(3, 3), bias=False)\n",
       "        (sigmoid): Sigmoid()\n",
       "      )\n",
       "    )\n",
       "  )\n",
       "  (layer3): Sequential(\n",
       "    (0): BasicBlock(\n",
       "      (conv1): Conv2d(128, 256, kernel_size=(3, 3), stride=(2, 2), padding=(1, 1), bias=False)\n",
       "      (bn1): BatchNorm2d(256, eps=1e-05, momentum=0.1, affine=True, track_running_stats=True)\n",
       "      (relu): ReLU(inplace=True)\n",
       "      (conv2): Conv2d(256, 256, kernel_size=(3, 3), stride=(1, 1), padding=(1, 1), bias=False)\n",
       "      (bn2): BatchNorm2d(256, eps=1e-05, momentum=0.1, affine=True, track_running_stats=True)\n",
       "      (ca): ChannelAttention(\n",
       "        (avg_pool): AdaptiveAvgPool2d(output_size=1)\n",
       "        (max_pool): AdaptiveMaxPool2d(output_size=1)\n",
       "        (fc): Sequential(\n",
       "          (0): Conv2d(256, 16, kernel_size=(1, 1), stride=(1, 1), bias=False)\n",
       "          (1): ReLU()\n",
       "          (2): Conv2d(16, 256, kernel_size=(1, 1), stride=(1, 1), bias=False)\n",
       "        )\n",
       "        (sigmoid): Sigmoid()\n",
       "      )\n",
       "      (sa): SpatialAttention(\n",
       "        (conv1): Conv2d(2, 1, kernel_size=(7, 7), stride=(1, 1), padding=(3, 3), bias=False)\n",
       "        (sigmoid): Sigmoid()\n",
       "      )\n",
       "      (downsample): Sequential(\n",
       "        (0): Conv2d(128, 256, kernel_size=(1, 1), stride=(2, 2), bias=False)\n",
       "        (1): BatchNorm2d(256, eps=1e-05, momentum=0.1, affine=True, track_running_stats=True)\n",
       "      )\n",
       "    )\n",
       "    (1): BasicBlock(\n",
       "      (conv1): Conv2d(256, 256, kernel_size=(3, 3), stride=(1, 1), padding=(1, 1), bias=False)\n",
       "      (bn1): BatchNorm2d(256, eps=1e-05, momentum=0.1, affine=True, track_running_stats=True)\n",
       "      (relu): ReLU(inplace=True)\n",
       "      (conv2): Conv2d(256, 256, kernel_size=(3, 3), stride=(1, 1), padding=(1, 1), bias=False)\n",
       "      (bn2): BatchNorm2d(256, eps=1e-05, momentum=0.1, affine=True, track_running_stats=True)\n",
       "      (ca): ChannelAttention(\n",
       "        (avg_pool): AdaptiveAvgPool2d(output_size=1)\n",
       "        (max_pool): AdaptiveMaxPool2d(output_size=1)\n",
       "        (fc): Sequential(\n",
       "          (0): Conv2d(256, 16, kernel_size=(1, 1), stride=(1, 1), bias=False)\n",
       "          (1): ReLU()\n",
       "          (2): Conv2d(16, 256, kernel_size=(1, 1), stride=(1, 1), bias=False)\n",
       "        )\n",
       "        (sigmoid): Sigmoid()\n",
       "      )\n",
       "      (sa): SpatialAttention(\n",
       "        (conv1): Conv2d(2, 1, kernel_size=(7, 7), stride=(1, 1), padding=(3, 3), bias=False)\n",
       "        (sigmoid): Sigmoid()\n",
       "      )\n",
       "    )\n",
       "  )\n",
       "  (attention): MultiheadAttention(\n",
       "    (out_proj): NonDynamicallyQuantizableLinear(in_features=256, out_features=256, bias=True)\n",
       "  )\n",
       "  (layer_norm): LayerNorm((256,), eps=1e-05, elementwise_affine=True)\n",
       "  (global_avg_pool): AdaptiveAvgPool2d(output_size=1)\n",
       "  (classifier): Sequential(\n",
       "    (0): Linear(in_features=256, out_features=128, bias=True)\n",
       "    (1): ReLU()\n",
       "    (2): Dropout(p=0.5, inplace=False)\n",
       "    (3): Linear(in_features=128, out_features=7, bias=True)\n",
       "  )\n",
       ")"
      ]
     },
     "execution_count": 48,
     "metadata": {},
     "output_type": "execute_result"
    }
   ],
   "source": [
    "model.load_state_dict(checkpoint['model_state_dict'])\n",
    "model.eval()"
   ]
  },
  {
   "cell_type": "code",
   "execution_count": 49,
   "id": "1af7eed4",
   "metadata": {
    "execution": {
     "iopub.execute_input": "2024-09-30T16:32:47.091791Z",
     "iopub.status.busy": "2024-09-30T16:32:47.091350Z",
     "iopub.status.idle": "2024-09-30T16:33:01.979128Z",
     "shell.execute_reply": "2024-09-30T16:33:01.978165Z",
     "shell.execute_reply.started": "2024-09-30T16:32:47.091753Z"
    },
    "id": "3f08e78f-164c-44f4-ab33-76d3355754af"
   },
   "outputs": [
    {
     "name": "stderr",
     "output_type": "stream",
     "text": [
      "100%|██████████| 96/96 [00:14<00:00,  6.45it/s]\n"
     ]
    }
   ],
   "source": [
    "all_preds=[]\n",
    "all_labels=[]\n",
    "with torch.no_grad():\n",
    "    for images, labels in tqdm(test_loader):\n",
    "        images = images.to(device)\n",
    "        labels = labels.to(device)\n",
    "        outputs = model(images)\n",
    "        _, predicted = torch.max(outputs,1)\n",
    "#         predicted+=1\n",
    "        \n",
    "        all_preds.extend(predicted.cpu().numpy())\n",
    "        all_labels.extend(labels.cpu().numpy())\n",
    "\n",
    "all_preds = np.array(all_preds)\n",
    "all_labels = np.array(all_labels)"
   ]
  },
  {
   "cell_type": "code",
   "execution_count": 50,
   "id": "ad9513f8",
   "metadata": {
    "execution": {
     "iopub.execute_input": "2024-09-30T16:33:24.379095Z",
     "iopub.status.busy": "2024-09-30T16:33:24.378593Z",
     "iopub.status.idle": "2024-09-30T16:33:24.392982Z",
     "shell.execute_reply": "2024-09-30T16:33:24.391341Z",
     "shell.execute_reply.started": "2024-09-30T16:33:24.379046Z"
    }
   },
   "outputs": [
    {
     "data": {
      "text/plain": [
       "0.7666232073011734"
      ]
     },
     "execution_count": 50,
     "metadata": {},
     "output_type": "execute_result"
    }
   ],
   "source": [
    "accuracy = accuracy_score(all_labels, all_preds)\n",
    "accuracy"
   ]
  },
  {
   "cell_type": "code",
   "execution_count": 52,
   "id": "af245979",
   "metadata": {
    "execution": {
     "iopub.execute_input": "2024-09-30T16:35:47.358307Z",
     "iopub.status.busy": "2024-09-30T16:35:47.357878Z",
     "iopub.status.idle": "2024-09-30T16:35:47.366636Z",
     "shell.execute_reply": "2024-09-30T16:35:47.365791Z",
     "shell.execute_reply.started": "2024-09-30T16:35:47.358266Z"
    }
   },
   "outputs": [
    {
     "data": {
      "text/plain": [
       "array([[ 247,   12,    2,   12,    6,    4,   46],\n",
       "       [  16,   30,    3,   12,    2,    2,    9],\n",
       "       [   4,    3,   63,   14,   14,   12,   50],\n",
       "       [   6,    2,    8, 1061,   13,    1,   94],\n",
       "       [   4,    2,   12,   45,  302,    5,  108],\n",
       "       [   8,    2,   23,   16,    6,   88,   19],\n",
       "       [  26,    0,    7,   32,   49,    5,  561]])"
      ]
     },
     "execution_count": 52,
     "metadata": {},
     "output_type": "execute_result"
    }
   ],
   "source": [
    "cm = confusion_matrix(all_labels, all_preds)\n",
    "cm"
   ]
  },
  {
   "cell_type": "code",
   "execution_count": 55,
   "id": "261bf83f",
   "metadata": {
    "execution": {
     "iopub.execute_input": "2024-09-30T16:36:42.061947Z",
     "iopub.status.busy": "2024-09-30T16:36:42.061095Z",
     "iopub.status.idle": "2024-09-30T16:36:42.526473Z",
     "shell.execute_reply": "2024-09-30T16:36:42.525634Z",
     "shell.execute_reply.started": "2024-09-30T16:36:42.061905Z"
    }
   },
   "outputs": [
    {
     "data": {
      "image/png": "[encoded data removed]",
      "text/plain": [
       "<Figure size 1000x700 with 2 Axes>"
      ]
     },
     "metadata": {},
     "output_type": "display_data"
    }
   ],
   "source": [
    "plt.figure(figsize=(10, 7))\n",
    "sns.heatmap(cm, annot=True, fmt='d', cmap='Blues', xticklabels=[f'Class {i}' for i in range(6)], yticklabels=[f'Class {i}' for i in range(6)])\n",
    "plt.ylabel('True Label')\n",
    "plt.xlabel('Predicted Label')\n",
    "plt.title('Confusion Matrix')\n",
    "plt.show()"
   ]
  },
  {
   "cell_type": "code",
   "execution_count": null,
   "id": "c7f9d579",
   "metadata": {},
   "outputs": [],
   "source": []
  }
 ],
 "metadata": {
  "accelerator": "GPU",
  "colab": {
   "gpuType": "T4",
   "provenance": []
  },
  "kaggle": {
   "accelerator": "nvidiaTeslaT4",
   "dataSources": [
    {
     "datasetId": 3758654,
     "sourceId": 6504606,
     "sourceType": "datasetVersion"
    },
    {
     "datasetId": 5794401,
     "sourceId": 9517573,
     "sourceType": "datasetVersion"
    },
    {
     "datasetId": 5815045,
     "sourceId": 9545029,
     "sourceType": "datasetVersion"
    }
   ],
   "dockerImageVersionId": 30787,
   "isGpuEnabled": true,
   "isInternetEnabled": true,
   "language": "python",
   "sourceType": "notebook"
  },
  "kernelspec": {
   "display_name": "Python 3 (ipykernel)",
   "language": "python",
   "name": "python3"
  },
  "language_info": {
   "codemirror_mode": {
    "name": "ipython",
    "version": 3
   },
   "file_extension": ".py",
   "mimetype": "text/x-python",
   "name": "python",
   "nbconvert_exporter": "python",
   "pygments_lexer": "ipython3",
   "version": "3.11.7"
  }
 },
 "nbformat": 4,
 "nbformat_minor": 5
}

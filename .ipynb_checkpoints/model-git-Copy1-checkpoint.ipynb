{
 "cells": [
  {
   "cell_type": "code",
   "execution_count": 48,
   "id": "0579ad3b",
   "metadata": {
    "execution": {
     "iopub.execute_input": "2024-09-29T18:27:50.299347Z",
     "iopub.status.busy": "2024-09-29T18:27:50.298593Z",
     "iopub.status.idle": "2024-09-29T18:27:50.305140Z",
     "shell.execute_reply": "2024-09-29T18:27:50.304162Z",
     "shell.execute_reply.started": "2024-09-29T18:27:50.299305Z"
    },
    "id": "579e9c4f-bb81-401a-9280-d215be513669"
   },
   "outputs": [],
   "source": [
    "import torch\n",
    "import torch.nn as nn\n",
    "import math\n",
    "import torch.utils.model_zoo as model_zoo\n",
    "import torchvision.transforms as transforms\n",
    "from torchvision.datasets import ImageFolder\n",
    "from torch.utils.data import DataLoader, Dataset\n",
    "import os\n",
    "import pandas as pd\n",
    "from PIL import Image\n",
    "import torch.optim as optim\n",
    "from torch.optim import AdamW\n",
    "from tqdm import tqdm\n",
    "import numpy as np "
   ]
  },
  {
   "cell_type": "code",
   "execution_count": 2,
   "id": "b415fabb",
   "metadata": {
    "execution": {
     "iopub.execute_input": "2024-09-29T17:27:48.466781Z",
     "iopub.status.busy": "2024-09-29T17:27:48.466286Z",
     "iopub.status.idle": "2024-09-29T17:27:48.470561Z",
     "shell.execute_reply": "2024-09-29T17:27:48.469685Z",
     "shell.execute_reply.started": "2024-09-29T17:27:48.466744Z"
    },
    "id": "Z9MA2G-FhPI_"
   },
   "outputs": [],
   "source": [
    "# from google.colab import drive\n",
    "# drive.mount('/content/drive')"
   ]
  },
  {
   "cell_type": "code",
   "execution_count": 3,
   "id": "9ed32e80",
   "metadata": {
    "execution": {
     "iopub.execute_input": "2024-09-29T17:27:49.295505Z",
     "iopub.status.busy": "2024-09-29T17:27:49.295190Z",
     "iopub.status.idle": "2024-09-29T17:27:49.300202Z",
     "shell.execute_reply": "2024-09-29T17:27:49.299091Z",
     "shell.execute_reply.started": "2024-09-29T17:27:49.295474Z"
    },
    "id": "18e6d001-c057-4580-a5ff-d1f20c1b1f1b"
   },
   "outputs": [],
   "source": [
    "model_urls = {\n",
    "    'resnet18': 'https://download.pytorch.org/models/resnet18-5c106cde.pth',\n",
    "    # 'resnet34': 'https://download.pytorch.org/models/resnet34-333f7ec4.pth',\n",
    "    # 'resnet50': 'https://download.pytorch.org/models/resnet50-19c8e357.pth',\n",
    "    # 'resnet101': 'https://download.pytorch.org/models/resnet101-5d3b4d8f.pth',\n",
    "    # 'resnet152': 'https://download.pytorch.org/models/resnet152-b121ed2d.pth',\n",
    "}"
   ]
  },
  {
   "cell_type": "code",
   "execution_count": 4,
   "id": "378d55ce",
   "metadata": {
    "execution": {
     "iopub.execute_input": "2024-09-29T17:27:49.979390Z",
     "iopub.status.busy": "2024-09-29T17:27:49.978715Z",
     "iopub.status.idle": "2024-09-29T17:27:49.984149Z",
     "shell.execute_reply": "2024-09-29T17:27:49.983193Z",
     "shell.execute_reply.started": "2024-09-29T17:27:49.979342Z"
    },
    "id": "489ff69f-8164-49fa-b930-ca293d6bf96a"
   },
   "outputs": [],
   "source": [
    "def conv3x3(in_planes, out_planes, stride=1):\n",
    "    \"3x3 convolution with padding\"\n",
    "    return nn.Conv2d(in_planes, out_planes, kernel_size=3, stride=stride,\n",
    "                     padding=1, bias=False)"
   ]
  },
  {
   "cell_type": "code",
   "execution_count": 5,
   "id": "c12944b9",
   "metadata": {
    "execution": {
     "iopub.execute_input": "2024-09-29T17:27:50.492787Z",
     "iopub.status.busy": "2024-09-29T17:27:50.492080Z",
     "iopub.status.idle": "2024-09-29T17:27:50.499740Z",
     "shell.execute_reply": "2024-09-29T17:27:50.498718Z",
     "shell.execute_reply.started": "2024-09-29T17:27:50.492753Z"
    },
    "id": "ddcf8890-3b5f-4cf2-9556-2396fc691ed9"
   },
   "outputs": [],
   "source": [
    "class ChannelAttention(nn.Module):\n",
    "    def __init__(self, in_planes, ratio=16):\n",
    "        super(ChannelAttention, self).__init__()\n",
    "        self.avg_pool = nn.AdaptiveAvgPool2d(1)\n",
    "        self.max_pool = nn.AdaptiveMaxPool2d(1)\n",
    "\n",
    "        self.fc = nn.Sequential(nn.Conv2d(in_planes, in_planes // 16, 1, bias=False),\n",
    "                               nn.ReLU(),\n",
    "                               nn.Conv2d(in_planes // 16, in_planes, 1, bias=False))\n",
    "        self.sigmoid = nn.Sigmoid()\n",
    "\n",
    "    def forward(self, x):\n",
    "        avg_out = self.fc(self.avg_pool(x))\n",
    "        max_out = self.fc(self.max_pool(x))\n",
    "        out = avg_out + max_out\n",
    "        return self.sigmoid(out)"
   ]
  },
  {
   "cell_type": "code",
   "execution_count": 6,
   "id": "5387a13e",
   "metadata": {
    "execution": {
     "iopub.execute_input": "2024-09-29T17:27:50.949218Z",
     "iopub.status.busy": "2024-09-29T17:27:50.948920Z",
     "iopub.status.idle": "2024-09-29T17:27:50.955852Z",
     "shell.execute_reply": "2024-09-29T17:27:50.954909Z",
     "shell.execute_reply.started": "2024-09-29T17:27:50.949186Z"
    },
    "id": "0260a2df-76c8-413f-a7bf-a1c3b6b97c1f"
   },
   "outputs": [],
   "source": [
    "class SpatialAttention(nn.Module):\n",
    "    def __init__(self, kernel_size=7):\n",
    "        super(SpatialAttention, self).__init__()\n",
    "\n",
    "        self.conv1 = nn.Conv2d(2, 1, kernel_size, padding=kernel_size//2, bias=False)\n",
    "        self.sigmoid = nn.Sigmoid()\n",
    "\n",
    "    def forward(self, x):\n",
    "        avg_out = torch.mean(x, dim=1, keepdim=True)\n",
    "        max_out, _ = torch.max(x, dim=1, keepdim=True)\n",
    "        x = torch.cat([avg_out, max_out], dim=1)\n",
    "        x = self.conv1(x)\n",
    "        return self.sigmoid(x)"
   ]
  },
  {
   "cell_type": "code",
   "execution_count": 7,
   "id": "1dfe8906",
   "metadata": {
    "execution": {
     "iopub.execute_input": "2024-09-29T17:27:51.488917Z",
     "iopub.status.busy": "2024-09-29T17:27:51.488608Z",
     "iopub.status.idle": "2024-09-29T17:27:51.498119Z",
     "shell.execute_reply": "2024-09-29T17:27:51.497266Z",
     "shell.execute_reply.started": "2024-09-29T17:27:51.488886Z"
    },
    "id": "41fecb88-333e-4ba1-86e9-a86fd507c273"
   },
   "outputs": [],
   "source": [
    "class BasicBlock(nn.Module):\n",
    "    expansion = 1\n",
    "\n",
    "    def __init__(self, inplanes, planes, stride=1, downsample=None):\n",
    "        super(BasicBlock, self).__init__()\n",
    "        self.conv1 = conv3x3(inplanes, planes, stride)\n",
    "        self.bn1 = nn.BatchNorm2d(planes)\n",
    "        self.relu = nn.ReLU(inplace=True)\n",
    "        self.conv2 = conv3x3(planes, planes)\n",
    "        self.bn2 = nn.BatchNorm2d(planes)\n",
    "\n",
    "        self.ca = ChannelAttention(planes)\n",
    "        self.sa = SpatialAttention()\n",
    "\n",
    "        self.downsample = downsample\n",
    "        self.stride = stride\n",
    "\n",
    "    def forward(self, x):\n",
    "        residual = x\n",
    "\n",
    "        out = self.conv1(x)\n",
    "        out = self.bn1(out)\n",
    "        out = self.relu(out)\n",
    "\n",
    "        out = self.conv2(out)\n",
    "        out = self.bn2(out)\n",
    "\n",
    "        out = self.ca(out) * out\n",
    "        out = self.sa(out) * out\n",
    "\n",
    "        if self.downsample is not None:\n",
    "            residual = self.downsample(x)\n",
    "\n",
    "        out += residual\n",
    "        out = self.relu(out)\n",
    "\n",
    "        return out"
   ]
  },
  {
   "cell_type": "code",
   "execution_count": 8,
   "id": "8c852666",
   "metadata": {
    "execution": {
     "iopub.execute_input": "2024-09-29T17:27:52.007080Z",
     "iopub.status.busy": "2024-09-29T17:27:52.006771Z",
     "iopub.status.idle": "2024-09-29T17:27:52.023944Z",
     "shell.execute_reply": "2024-09-29T17:27:52.023001Z",
     "shell.execute_reply.started": "2024-09-29T17:27:52.007048Z"
    },
    "id": "42b16778-f805-4570-8455-179026a3c972"
   },
   "outputs": [],
   "source": [
    "class ResNet(nn.Module):\n",
    "\n",
    "    def __init__(self, block, layers, num_heads, num_classes=7):\n",
    "        self.inplanes = 64\n",
    "        # self.embed_dim = embed_dim\n",
    "        self.num_heads = num_heads\n",
    "        super(ResNet, self).__init__()\n",
    "        self.conv1 = nn.Conv2d(3, 64, kernel_size=7, stride=2, padding=3,\n",
    "                               bias=False)\n",
    "        self.bn1 = nn.BatchNorm2d(64)\n",
    "        self.relu = nn.ReLU(inplace=True)\n",
    "        self.maxpool = nn.MaxPool2d(kernel_size=3, stride=2, padding=1)\n",
    "        self.layer1 = self._make_layer(block, 64, layers[0])\n",
    "        self.layer2 = self._make_layer(block, 128, layers[1], stride=2)\n",
    "        self.layer3 = self._make_layer(block, 256, layers[2], stride=2)\n",
    "        # self.layer4 = self._make_layer(block, 512, layers[3], stride=2)\n",
    "        # self.avgpool = nn.AdaptiveAvgPool2d((1, 1))\n",
    "        # self.fc = nn.Linear(512 * block.expansion, num_classes)\n",
    "        self.attention = nn.MultiheadAttention(256, num_heads)\n",
    "        self.layer_norm = nn.LayerNorm(256)\n",
    "        self.classifier = nn.Linear(256, num_classes)\n",
    "\n",
    "        for m in self.modules():\n",
    "            if isinstance(m, nn.Conv2d):\n",
    "                n = m.kernel_size[0] * m.kernel_size[1] * m.out_channels\n",
    "                m.weight.data.normal_(0, math.sqrt(2. / n))\n",
    "            elif isinstance(m, nn.BatchNorm2d):\n",
    "                m.weight.data.fill_(1)\n",
    "                m.bias.data.zero_()\n",
    "\n",
    "    def _make_layer(self, block, planes, blocks, stride=1):\n",
    "        downsample = None\n",
    "        if stride != 1 or self.inplanes != planes * block.expansion:\n",
    "            downsample = nn.Sequential(\n",
    "                nn.Conv2d(self.inplanes, planes * block.expansion,\n",
    "                          kernel_size=1, stride=stride, bias=False),\n",
    "                nn.BatchNorm2d(planes * block.expansion),\n",
    "            )\n",
    "\n",
    "        layers = []\n",
    "        layers.append(block(self.inplanes, planes, stride, downsample))\n",
    "        self.inplanes = planes * block.expansion\n",
    "        for i in range(1, blocks):\n",
    "            layers.append(block(self.inplanes, planes))\n",
    "\n",
    "        return nn.Sequential(*layers)\n",
    "\n",
    "    def forward(self, x):\n",
    "        x = self.conv1(x)\n",
    "        x = self.bn1(x)\n",
    "        x = self.relu(x)\n",
    "        x = self.maxpool(x)\n",
    "\n",
    "        x = self.layer1(x)\n",
    "        x = self.layer2(x)\n",
    "        x = self.layer3(x)\n",
    "        # x = self.layer4(x)\n",
    "\n",
    "        # x = self.avgpool(x)\n",
    "        # x = x.view(x.size(0), -1)\n",
    "        # x = self.fc(x)\n",
    "        batch_size, channels, height, width = x.shape\n",
    "        x = x.view(batch_size, channels, height*width).permute(0,2,1)\n",
    "\n",
    "        query = x\n",
    "        key = x\n",
    "        value = x\n",
    "\n",
    "        attn_output, _ = self.attention(query, key, value)\n",
    "        x = self.layer_norm(attn_output + x)\n",
    "        x = x.permute(0,2,1).view(batch_size, channels, height, width)\n",
    "        x = nn.functional.adaptive_avg_pool2d(x,1).view(batch_size, -1)\n",
    "\n",
    "        logits = self.classifier(x)\n",
    "\n",
    "        return logits"
   ]
  },
  {
   "cell_type": "code",
   "execution_count": 9,
   "id": "880f7d5e",
   "metadata": {
    "execution": {
     "iopub.execute_input": "2024-09-29T17:27:52.422975Z",
     "iopub.status.busy": "2024-09-29T17:27:52.422376Z",
     "iopub.status.idle": "2024-09-29T17:27:52.427426Z",
     "shell.execute_reply": "2024-09-29T17:27:52.426524Z",
     "shell.execute_reply.started": "2024-09-29T17:27:52.422935Z"
    },
    "id": "03cd3076-fd58-4de5-a993-fac853812bce"
   },
   "outputs": [],
   "source": [
    "transform = transforms.Compose([\n",
    "    transforms.Resize((224, 224)),\n",
    "    transforms.ToTensor(),\n",
    "])"
   ]
  },
  {
   "cell_type": "markdown",
   "id": "c2c5ec01",
   "metadata": {
    "id": "a2eb0ecd-292c-41ab-b5ee-d250558f39d9"
   },
   "source": [
    "# Class Labels are 0-Indexed CAREFULL"
   ]
  },
  {
   "cell_type": "code",
   "execution_count": 10,
   "id": "f7716e45",
   "metadata": {
    "execution": {
     "iopub.execute_input": "2024-09-29T17:27:54.247983Z",
     "iopub.status.busy": "2024-09-29T17:27:54.247599Z",
     "iopub.status.idle": "2024-09-29T17:27:54.256248Z",
     "shell.execute_reply": "2024-09-29T17:27:54.255367Z",
     "shell.execute_reply.started": "2024-09-29T17:27:54.247946Z"
    },
    "id": "b7badb95-b47f-42ab-85dc-d1e02aa63d0b"
   },
   "outputs": [],
   "source": [
    "class CustomImageDataset(Dataset):\n",
    "    def __init__(self, image_dir, csv_file, transform=None):\n",
    "        self.image_dir = image_dir\n",
    "        self.transform = transform\n",
    "\n",
    "        # Read the CSV file\n",
    "        self.data_frame = pd.read_csv(csv_file)\n",
    "\n",
    "        # Ensure the CSV file has columns 'filename' and 'class'\n",
    "        assert 'image' in self.data_frame.columns\n",
    "        assert 'label' in self.data_frame.columns\n",
    "\n",
    "    def __len__(self):\n",
    "        return len(self.data_frame)\n",
    "\n",
    "    def __getitem__(self, idx):\n",
    "        # Get the filename and class label\n",
    "        img_name = self.data_frame.iloc[idx, 0]  # Get the filename from the CSV\n",
    "        class_label = self.data_frame.iloc[idx, 1] - 1  # Get the class label from the CSV\n",
    "\n",
    "        # Construct the path to the image based on its class label\n",
    "        class_folder = os.path.join(self.image_dir, str(class_label+1))  # Convert class label to string\n",
    "        img_path = os.path.join(class_folder, img_name)\n",
    "\n",
    "        # Load the image\n",
    "        image = Image.open(img_path).convert('RGB')\n",
    "\n",
    "        # Apply transformations\n",
    "        if self.transform:\n",
    "            image = self.transform(image)\n",
    "\n",
    "        return image, class_label"
   ]
  },
  {
   "cell_type": "code",
   "execution_count": 13,
   "id": "7d70a95d",
   "metadata": {
    "execution": {
     "iopub.execute_input": "2024-09-29T17:29:47.155479Z",
     "iopub.status.busy": "2024-09-29T17:29:47.154819Z",
     "iopub.status.idle": "2024-09-29T17:29:47.159692Z",
     "shell.execute_reply": "2024-09-29T17:29:47.158705Z",
     "shell.execute_reply.started": "2024-09-29T17:29:47.155441Z"
    },
    "id": "aa27ec16-927e-4e09-b749-8a6d18011972"
   },
   "outputs": [],
   "source": [
    "image_directory = r\"/kaggle/input/raf-db-dataset/DATASET/train\"  # Directory containing class subfolders\n",
    "csv_file_path = r\"/kaggle/input/raf-db-dataset/train_labels.csv\""
   ]
  },
  {
   "cell_type": "code",
   "execution_count": 14,
   "id": "9309ae37",
   "metadata": {
    "execution": {
     "iopub.execute_input": "2024-09-29T17:29:48.805589Z",
     "iopub.status.busy": "2024-09-29T17:29:48.804802Z",
     "iopub.status.idle": "2024-09-29T17:29:48.838901Z",
     "shell.execute_reply": "2024-09-29T17:29:48.838173Z",
     "shell.execute_reply.started": "2024-09-29T17:29:48.805550Z"
    },
    "id": "a4ebf758-cb70-4921-aac6-3fc093533fc4"
   },
   "outputs": [],
   "source": [
    "train_dataset = CustomImageDataset(image_dir=image_directory, csv_file=csv_file_path, transform=transform)\n"
   ]
  },
  {
   "cell_type": "code",
   "execution_count": 15,
   "id": "c04f8278",
   "metadata": {
    "_kg_hide-input": false,
    "_kg_hide-output": false,
    "colab": {
     "base_uri": "https://localhost:8080/"
    },
    "execution": {
     "iopub.execute_input": "2024-09-29T17:29:52.617153Z",
     "iopub.status.busy": "2024-09-29T17:29:52.616424Z",
     "iopub.status.idle": "2024-09-29T17:29:52.624344Z",
     "shell.execute_reply": "2024-09-29T17:29:52.623399Z",
     "shell.execute_reply.started": "2024-09-29T17:29:52.617116Z"
    },
    "id": "27b73a65-5dc3-4bc4-a176-c39027548b2c",
    "outputId": "a0ef7397-f0b3-4bac-d20a-5a0e8165b189"
   },
   "outputs": [
    {
     "name": "stderr",
     "output_type": "stream",
     "text": [
      "/opt/conda/lib/python3.10/site-packages/torch/utils/data/dataloader.py:557: UserWarning: This DataLoader will create 8 worker processes in total. Our suggested max number of worker in current system is 4, which is smaller than what this DataLoader is going to create. Please be aware that excessive worker creation might get DataLoader running slow or even freeze, lower the worker number to avoid potential slowness/freeze if necessary.\n",
      "  warnings.warn(_create_warning_msg(\n"
     ]
    }
   ],
   "source": [
    "train_loader = DataLoader(train_dataset, batch_size=32, num_workers=8, pin_memory=True, shuffle=True)"
   ]
  },
  {
   "cell_type": "code",
   "execution_count": 16,
   "id": "2b0d99d1",
   "metadata": {
    "execution": {
     "iopub.execute_input": "2024-09-29T17:30:29.641796Z",
     "iopub.status.busy": "2024-09-29T17:30:29.641086Z",
     "iopub.status.idle": "2024-09-29T17:30:29.645922Z",
     "shell.execute_reply": "2024-09-29T17:30:29.644911Z",
     "shell.execute_reply.started": "2024-09-29T17:30:29.641759Z"
    },
    "id": "f74qGWRn4mYD"
   },
   "outputs": [],
   "source": [
    "torch.cuda.empty_cache()"
   ]
  },
  {
   "cell_type": "code",
   "execution_count": 17,
   "id": "80f0d613",
   "metadata": {
    "colab": {
     "base_uri": "https://localhost:8080/"
    },
    "execution": {
     "iopub.execute_input": "2024-09-29T17:30:30.340852Z",
     "iopub.status.busy": "2024-09-29T17:30:30.340094Z",
     "iopub.status.idle": "2024-09-29T17:30:30.399186Z",
     "shell.execute_reply": "2024-09-29T17:30:30.398336Z",
     "shell.execute_reply.started": "2024-09-29T17:30:30.340818Z"
    },
    "id": "41df7ed7-9c5a-4b01-b3cc-29ba888b181b",
    "outputId": "917b2b2f-047a-4b25-fd4b-a170b42d28da"
   },
   "outputs": [
    {
     "data": {
      "text/plain": [
       "device(type='cuda')"
      ]
     },
     "execution_count": 17,
     "metadata": {},
     "output_type": "execute_result"
    }
   ],
   "source": [
    "device = torch.device('cuda' if torch.cuda.is_available() else 'cpu')\n",
    "device"
   ]
  },
  {
   "cell_type": "code",
   "execution_count": 18,
   "id": "feeb0dac",
   "metadata": {
    "execution": {
     "iopub.execute_input": "2024-09-29T17:30:34.611030Z",
     "iopub.status.busy": "2024-09-29T17:30:34.610611Z",
     "iopub.status.idle": "2024-09-29T17:30:34.617907Z",
     "shell.execute_reply": "2024-09-29T17:30:34.616607Z",
     "shell.execute_reply.started": "2024-09-29T17:30:34.610978Z"
    },
    "id": "759108d4-98b8-4108-a954-c419f490ff54"
   },
   "outputs": [],
   "source": [
    "def resnet18_cbam(pretrained=True, **kwargs):\n",
    "    \"\"\"Constructs a ResNet-18 model.\n",
    "\n",
    "    Args:\n",
    "        pretrained (bool): If True, returns a model pre-trained on ImageNet\n",
    "    \"\"\"\n",
    "    num_heads = 2\n",
    "    model = ResNet(BasicBlock, [2, 2, 2, 2], num_heads)\n",
    "    if pretrained:\n",
    "        pretrained_state_dict = model_zoo.load_url(model_urls['resnet18'])\n",
    "        now_state_dict        = model.state_dict()\n",
    "        now_state_dict.update(pretrained_state_dict)\n",
    "        model.load_state_dict(now_state_dict, strict=False)\n",
    "    return model"
   ]
  },
  {
   "cell_type": "code",
   "execution_count": 26,
   "id": "32d375a7",
   "metadata": {
    "colab": {
     "base_uri": "https://localhost:8080/"
    },
    "execution": {
     "iopub.execute_input": "2024-09-29T17:32:50.988248Z",
     "iopub.status.busy": "2024-09-29T17:32:50.987854Z",
     "iopub.status.idle": "2024-09-29T17:32:51.175622Z",
     "shell.execute_reply": "2024-09-29T17:32:51.174552Z",
     "shell.execute_reply.started": "2024-09-29T17:32:50.988211Z"
    },
    "id": "884eceee-4aae-4cbc-b395-33e82f9347c8",
    "outputId": "e5495791-dd09-4a08-d8ea-282a4433d029",
    "scrolled": true
   },
   "outputs": [
    {
     "data": {
      "text/plain": [
       "ResNet(\n",
       "  (conv1): Conv2d(3, 64, kernel_size=(7, 7), stride=(2, 2), padding=(3, 3), bias=False)\n",
       "  (bn1): BatchNorm2d(64, eps=1e-05, momentum=0.1, affine=True, track_running_stats=True)\n",
       "  (relu): ReLU(inplace=True)\n",
       "  (maxpool): MaxPool2d(kernel_size=3, stride=2, padding=1, dilation=1, ceil_mode=False)\n",
       "  (layer1): Sequential(\n",
       "    (0): BasicBlock(\n",
       "      (conv1): Conv2d(64, 64, kernel_size=(3, 3), stride=(1, 1), padding=(1, 1), bias=False)\n",
       "      (bn1): BatchNorm2d(64, eps=1e-05, momentum=0.1, affine=True, track_running_stats=True)\n",
       "      (relu): ReLU(inplace=True)\n",
       "      (conv2): Conv2d(64, 64, kernel_size=(3, 3), stride=(1, 1), padding=(1, 1), bias=False)\n",
       "      (bn2): BatchNorm2d(64, eps=1e-05, momentum=0.1, affine=True, track_running_stats=True)\n",
       "      (ca): ChannelAttention(\n",
       "        (avg_pool): AdaptiveAvgPool2d(output_size=1)\n",
       "        (max_pool): AdaptiveMaxPool2d(output_size=1)\n",
       "        (fc): Sequential(\n",
       "          (0): Conv2d(64, 4, kernel_size=(1, 1), stride=(1, 1), bias=False)\n",
       "          (1): ReLU()\n",
       "          (2): Conv2d(4, 64, kernel_size=(1, 1), stride=(1, 1), bias=False)\n",
       "        )\n",
       "        (sigmoid): Sigmoid()\n",
       "      )\n",
       "      (sa): SpatialAttention(\n",
       "        (conv1): Conv2d(2, 1, kernel_size=(7, 7), stride=(1, 1), padding=(3, 3), bias=False)\n",
       "        (sigmoid): Sigmoid()\n",
       "      )\n",
       "    )\n",
       "    (1): BasicBlock(\n",
       "      (conv1): Conv2d(64, 64, kernel_size=(3, 3), stride=(1, 1), padding=(1, 1), bias=False)\n",
       "      (bn1): BatchNorm2d(64, eps=1e-05, momentum=0.1, affine=True, track_running_stats=True)\n",
       "      (relu): ReLU(inplace=True)\n",
       "      (conv2): Conv2d(64, 64, kernel_size=(3, 3), stride=(1, 1), padding=(1, 1), bias=False)\n",
       "      (bn2): BatchNorm2d(64, eps=1e-05, momentum=0.1, affine=True, track_running_stats=True)\n",
       "      (ca): ChannelAttention(\n",
       "        (avg_pool): AdaptiveAvgPool2d(output_size=1)\n",
       "        (max_pool): AdaptiveMaxPool2d(output_size=1)\n",
       "        (fc): Sequential(\n",
       "          (0): Conv2d(64, 4, kernel_size=(1, 1), stride=(1, 1), bias=False)\n",
       "          (1): ReLU()\n",
       "          (2): Conv2d(4, 64, kernel_size=(1, 1), stride=(1, 1), bias=False)\n",
       "        )\n",
       "        (sigmoid): Sigmoid()\n",
       "      )\n",
       "      (sa): SpatialAttention(\n",
       "        (conv1): Conv2d(2, 1, kernel_size=(7, 7), stride=(1, 1), padding=(3, 3), bias=False)\n",
       "        (sigmoid): Sigmoid()\n",
       "      )\n",
       "    )\n",
       "  )\n",
       "  (layer2): Sequential(\n",
       "    (0): BasicBlock(\n",
       "      (conv1): Conv2d(64, 128, kernel_size=(3, 3), stride=(2, 2), padding=(1, 1), bias=False)\n",
       "      (bn1): BatchNorm2d(128, eps=1e-05, momentum=0.1, affine=True, track_running_stats=True)\n",
       "      (relu): ReLU(inplace=True)\n",
       "      (conv2): Conv2d(128, 128, kernel_size=(3, 3), stride=(1, 1), padding=(1, 1), bias=False)\n",
       "      (bn2): BatchNorm2d(128, eps=1e-05, momentum=0.1, affine=True, track_running_stats=True)\n",
       "      (ca): ChannelAttention(\n",
       "        (avg_pool): AdaptiveAvgPool2d(output_size=1)\n",
       "        (max_pool): AdaptiveMaxPool2d(output_size=1)\n",
       "        (fc): Sequential(\n",
       "          (0): Conv2d(128, 8, kernel_size=(1, 1), stride=(1, 1), bias=False)\n",
       "          (1): ReLU()\n",
       "          (2): Conv2d(8, 128, kernel_size=(1, 1), stride=(1, 1), bias=False)\n",
       "        )\n",
       "        (sigmoid): Sigmoid()\n",
       "      )\n",
       "      (sa): SpatialAttention(\n",
       "        (conv1): Conv2d(2, 1, kernel_size=(7, 7), stride=(1, 1), padding=(3, 3), bias=False)\n",
       "        (sigmoid): Sigmoid()\n",
       "      )\n",
       "      (downsample): Sequential(\n",
       "        (0): Conv2d(64, 128, kernel_size=(1, 1), stride=(2, 2), bias=False)\n",
       "        (1): BatchNorm2d(128, eps=1e-05, momentum=0.1, affine=True, track_running_stats=True)\n",
       "      )\n",
       "    )\n",
       "    (1): BasicBlock(\n",
       "      (conv1): Conv2d(128, 128, kernel_size=(3, 3), stride=(1, 1), padding=(1, 1), bias=False)\n",
       "      (bn1): BatchNorm2d(128, eps=1e-05, momentum=0.1, affine=True, track_running_stats=True)\n",
       "      (relu): ReLU(inplace=True)\n",
       "      (conv2): Conv2d(128, 128, kernel_size=(3, 3), stride=(1, 1), padding=(1, 1), bias=False)\n",
       "      (bn2): BatchNorm2d(128, eps=1e-05, momentum=0.1, affine=True, track_running_stats=True)\n",
       "      (ca): ChannelAttention(\n",
       "        (avg_pool): AdaptiveAvgPool2d(output_size=1)\n",
       "        (max_pool): AdaptiveMaxPool2d(output_size=1)\n",
       "        (fc): Sequential(\n",
       "          (0): Conv2d(128, 8, kernel_size=(1, 1), stride=(1, 1), bias=False)\n",
       "          (1): ReLU()\n",
       "          (2): Conv2d(8, 128, kernel_size=(1, 1), stride=(1, 1), bias=False)\n",
       "        )\n",
       "        (sigmoid): Sigmoid()\n",
       "      )\n",
       "      (sa): SpatialAttention(\n",
       "        (conv1): Conv2d(2, 1, kernel_size=(7, 7), stride=(1, 1), padding=(3, 3), bias=False)\n",
       "        (sigmoid): Sigmoid()\n",
       "      )\n",
       "    )\n",
       "  )\n",
       "  (layer3): Sequential(\n",
       "    (0): BasicBlock(\n",
       "      (conv1): Conv2d(128, 256, kernel_size=(3, 3), stride=(2, 2), padding=(1, 1), bias=False)\n",
       "      (bn1): BatchNorm2d(256, eps=1e-05, momentum=0.1, affine=True, track_running_stats=True)\n",
       "      (relu): ReLU(inplace=True)\n",
       "      (conv2): Conv2d(256, 256, kernel_size=(3, 3), stride=(1, 1), padding=(1, 1), bias=False)\n",
       "      (bn2): BatchNorm2d(256, eps=1e-05, momentum=0.1, affine=True, track_running_stats=True)\n",
       "      (ca): ChannelAttention(\n",
       "        (avg_pool): AdaptiveAvgPool2d(output_size=1)\n",
       "        (max_pool): AdaptiveMaxPool2d(output_size=1)\n",
       "        (fc): Sequential(\n",
       "          (0): Conv2d(256, 16, kernel_size=(1, 1), stride=(1, 1), bias=False)\n",
       "          (1): ReLU()\n",
       "          (2): Conv2d(16, 256, kernel_size=(1, 1), stride=(1, 1), bias=False)\n",
       "        )\n",
       "        (sigmoid): Sigmoid()\n",
       "      )\n",
       "      (sa): SpatialAttention(\n",
       "        (conv1): Conv2d(2, 1, kernel_size=(7, 7), stride=(1, 1), padding=(3, 3), bias=False)\n",
       "        (sigmoid): Sigmoid()\n",
       "      )\n",
       "      (downsample): Sequential(\n",
       "        (0): Conv2d(128, 256, kernel_size=(1, 1), stride=(2, 2), bias=False)\n",
       "        (1): BatchNorm2d(256, eps=1e-05, momentum=0.1, affine=True, track_running_stats=True)\n",
       "      )\n",
       "    )\n",
       "    (1): BasicBlock(\n",
       "      (conv1): Conv2d(256, 256, kernel_size=(3, 3), stride=(1, 1), padding=(1, 1), bias=False)\n",
       "      (bn1): BatchNorm2d(256, eps=1e-05, momentum=0.1, affine=True, track_running_stats=True)\n",
       "      (relu): ReLU(inplace=True)\n",
       "      (conv2): Conv2d(256, 256, kernel_size=(3, 3), stride=(1, 1), padding=(1, 1), bias=False)\n",
       "      (bn2): BatchNorm2d(256, eps=1e-05, momentum=0.1, affine=True, track_running_stats=True)\n",
       "      (ca): ChannelAttention(\n",
       "        (avg_pool): AdaptiveAvgPool2d(output_size=1)\n",
       "        (max_pool): AdaptiveMaxPool2d(output_size=1)\n",
       "        (fc): Sequential(\n",
       "          (0): Conv2d(256, 16, kernel_size=(1, 1), stride=(1, 1), bias=False)\n",
       "          (1): ReLU()\n",
       "          (2): Conv2d(16, 256, kernel_size=(1, 1), stride=(1, 1), bias=False)\n",
       "        )\n",
       "        (sigmoid): Sigmoid()\n",
       "      )\n",
       "      (sa): SpatialAttention(\n",
       "        (conv1): Conv2d(2, 1, kernel_size=(7, 7), stride=(1, 1), padding=(3, 3), bias=False)\n",
       "        (sigmoid): Sigmoid()\n",
       "      )\n",
       "    )\n",
       "  )\n",
       "  (attention): MultiheadAttention(\n",
       "    (out_proj): NonDynamicallyQuantizableLinear(in_features=256, out_features=256, bias=True)\n",
       "  )\n",
       "  (layer_norm): LayerNorm((256,), eps=1e-05, elementwise_affine=True)\n",
       "  (classifier): Linear(in_features=256, out_features=7, bias=True)\n",
       ")"
      ]
     },
     "execution_count": 26,
     "metadata": {},
     "output_type": "execute_result"
    }
   ],
   "source": [
    "model = resnet18_cbam()\n",
    "model.to(device)"
   ]
  },
  {
   "cell_type": "code",
   "execution_count": 27,
   "id": "3615fe5e",
   "metadata": {
    "execution": {
     "iopub.execute_input": "2024-09-29T17:32:53.662216Z",
     "iopub.status.busy": "2024-09-29T17:32:53.661464Z",
     "iopub.status.idle": "2024-09-29T17:32:53.667513Z",
     "shell.execute_reply": "2024-09-29T17:32:53.666573Z",
     "shell.execute_reply.started": "2024-09-29T17:32:53.662175Z"
    },
    "id": "e6c77aa4-7e13-483f-938a-64df57fea96f"
   },
   "outputs": [],
   "source": [
    "criterion = nn.CrossEntropyLoss()\n",
    "# optimizer = optim.Adam(model.parameters(), lr=0.001)\n",
    "optimizer = optim.AdamW(model.parameters(), lr=0.001, weight_decay=0.01)"
   ]
  },
  {
   "cell_type": "code",
   "execution_count": 28,
   "id": "b46dd75e",
   "metadata": {
    "execution": {
     "iopub.execute_input": "2024-09-29T17:32:55.394661Z",
     "iopub.status.busy": "2024-09-29T17:32:55.394286Z",
     "iopub.status.idle": "2024-09-29T17:32:55.399344Z",
     "shell.execute_reply": "2024-09-29T17:32:55.398395Z",
     "shell.execute_reply.started": "2024-09-29T17:32:55.394623Z"
    },
    "id": "6BiC9Ry0nqd-"
   },
   "outputs": [],
   "source": [
    "os.makedirs('models', exist_ok=True)"
   ]
  },
  {
   "cell_type": "code",
   "execution_count": 29,
   "id": "8104afe8",
   "metadata": {
    "colab": {
     "base_uri": "https://localhost:8080/",
     "height": 55
    },
    "execution": {
     "iopub.execute_input": "2024-09-29T17:32:57.082252Z",
     "iopub.status.busy": "2024-09-29T17:32:57.081907Z",
     "iopub.status.idle": "2024-09-29T17:32:57.088047Z",
     "shell.execute_reply": "2024-09-29T17:32:57.087077Z",
     "shell.execute_reply.started": "2024-09-29T17:32:57.082216Z"
    },
    "id": "TOE5GMazqsMl",
    "outputId": "c30bc8a6-b2f4-42ae-9b4c-73bda762e30a"
   },
   "outputs": [
    {
     "data": {
      "text/plain": [
       "'/kaggle/working'"
      ]
     },
     "execution_count": 29,
     "metadata": {},
     "output_type": "execute_result"
    }
   ],
   "source": [
    "os.getcwd()"
   ]
  },
  {
   "cell_type": "code",
   "execution_count": 30,
   "id": "a20ffb5e",
   "metadata": {
    "execution": {
     "iopub.execute_input": "2024-09-29T17:33:14.388574Z",
     "iopub.status.busy": "2024-09-29T17:33:14.387710Z",
     "iopub.status.idle": "2024-09-29T17:33:14.396462Z",
     "shell.execute_reply": "2024-09-29T17:33:14.395601Z",
     "shell.execute_reply.started": "2024-09-29T17:33:14.388533Z"
    },
    "id": "29a08383-0aa7-4122-86ae-3bcf8da03420"
   },
   "outputs": [],
   "source": [
    "def train(model, train_loader, criterion, optimizer, device, num_epochs=5):\n",
    "    # train_loader = pl.MpDeviceLoader(train_loader, device)\n",
    "    model.train()\n",
    "    # os.makedirs('models', exist_ok=True)\n",
    "    for epoch in range(num_epochs):\n",
    "        running_loss = 0.0\n",
    "\n",
    "        for images, labels in tqdm(train_loader):\n",
    "            images, labels = images.to(device), labels.to(device)\n",
    "\n",
    "            optimizer.zero_grad()\n",
    "\n",
    "            outputs=model(images)\n",
    "            loss = criterion(outputs,labels)\n",
    "\n",
    "            loss.backward()\n",
    "            optimizer.step()\n",
    "            # xm.optimizer_step(optimizer)\n",
    "\n",
    "            running_loss += loss.item()\n",
    "        epoch_loss = running_loss / len(train_loader)\n",
    "        print(f'Epoch [{epoch + 1}/{num_epochs}], Loss: {epoch_loss:.4f}')\n",
    "        if epoch > 2 :\n",
    "          torch.save({'iter': epoch,\n",
    "                    'model_state_dict': model.state_dict(),\n",
    "                    'optimizer_state_dict': optimizer.state_dict(),},\n",
    "                    os.path.join('models', \"epoch_\"+str(epoch)+\"_loss_\"+str(epoch_loss)+\".pth\"))\n",
    "          print('Model saved.')"
   ]
  },
  {
   "cell_type": "code",
   "execution_count": 31,
   "id": "f0bd1fe4",
   "metadata": {
    "colab": {
     "base_uri": "https://localhost:8080/"
    },
    "execution": {
     "iopub.execute_input": "2024-09-29T17:33:15.620138Z",
     "iopub.status.busy": "2024-09-29T17:33:15.619726Z",
     "iopub.status.idle": "2024-09-29T17:36:38.029803Z",
     "shell.execute_reply": "2024-09-29T17:36:38.028760Z",
     "shell.execute_reply.started": "2024-09-29T17:33:15.620098Z"
    },
    "id": "58970af0-2447-4401-aeee-de55d874ca94",
    "outputId": "b138da59-58d3-410c-a550-7dfb98216bd1"
   },
   "outputs": [
    {
     "name": "stderr",
     "output_type": "stream",
     "text": [
      "100%|██████████| 384/384 [00:41<00:00,  9.30it/s]\n"
     ]
    },
    {
     "name": "stdout",
     "output_type": "stream",
     "text": [
      "Epoch [1/5], Loss: 1.2328\n"
     ]
    },
    {
     "name": "stderr",
     "output_type": "stream",
     "text": [
      "100%|██████████| 384/384 [00:40<00:00,  9.53it/s]\n"
     ]
    },
    {
     "name": "stdout",
     "output_type": "stream",
     "text": [
      "Epoch [2/5], Loss: 0.8029\n"
     ]
    },
    {
     "name": "stderr",
     "output_type": "stream",
     "text": [
      "100%|██████████| 384/384 [00:40<00:00,  9.58it/s]\n"
     ]
    },
    {
     "name": "stdout",
     "output_type": "stream",
     "text": [
      "Epoch [3/5], Loss: 0.6365\n"
     ]
    },
    {
     "name": "stderr",
     "output_type": "stream",
     "text": [
      "100%|██████████| 384/384 [00:40<00:00,  9.51it/s]\n"
     ]
    },
    {
     "name": "stdout",
     "output_type": "stream",
     "text": [
      "Epoch [4/5], Loss: 0.5159\n",
      "Model saved.\n"
     ]
    },
    {
     "name": "stderr",
     "output_type": "stream",
     "text": [
      "100%|██████████| 384/384 [00:40<00:00,  9.58it/s]\n"
     ]
    },
    {
     "name": "stdout",
     "output_type": "stream",
     "text": [
      "Epoch [5/5], Loss: 0.4130\n",
      "Model saved.\n"
     ]
    }
   ],
   "source": [
    "train(model, train_loader, criterion, optimizer, device, num_epochs=5)"
   ]
  },
  {
   "cell_type": "code",
   "execution_count": 33,
   "id": "46c344bf",
   "metadata": {
    "execution": {
     "iopub.execute_input": "2024-09-29T18:03:07.916790Z",
     "iopub.status.busy": "2024-09-29T18:03:07.915802Z",
     "iopub.status.idle": "2024-09-29T18:03:07.921426Z",
     "shell.execute_reply": "2024-09-29T18:03:07.920376Z",
     "shell.execute_reply.started": "2024-09-29T18:03:07.916738Z"
    }
   },
   "outputs": [],
   "source": [
    "test_image_directory = r\"/kaggle/input/raf-db-dataset/DATASET/test\"\n",
    "test_csv_file_path = r\"/kaggle/input/raf-db-dataset/test_labels.csv\""
   ]
  },
  {
   "cell_type": "code",
   "execution_count": 34,
   "id": "55869dd8",
   "metadata": {
    "execution": {
     "iopub.execute_input": "2024-09-29T18:04:09.027984Z",
     "iopub.status.busy": "2024-09-29T18:04:09.027584Z",
     "iopub.status.idle": "2024-09-29T18:04:09.040373Z",
     "shell.execute_reply": "2024-09-29T18:04:09.039653Z",
     "shell.execute_reply.started": "2024-09-29T18:04:09.027947Z"
    },
    "id": "a78d1b81-84f7-41f7-9f55-ed6cef4a300c"
   },
   "outputs": [],
   "source": [
    "test_dataset = CustomImageDataset(test_image_directory, test_csv_file_path, transform)"
   ]
  },
  {
   "cell_type": "code",
   "execution_count": 36,
   "id": "9611c504",
   "metadata": {
    "execution": {
     "iopub.execute_input": "2024-09-29T18:05:04.979805Z",
     "iopub.status.busy": "2024-09-29T18:05:04.979061Z",
     "iopub.status.idle": "2024-09-29T18:05:04.984185Z",
     "shell.execute_reply": "2024-09-29T18:05:04.983212Z",
     "shell.execute_reply.started": "2024-09-29T18:05:04.979766Z"
    },
    "id": "dcf42031-0336-4cdc-a490-8ace98c5dd2a"
   },
   "outputs": [],
   "source": [
    "test_loader = DataLoader(test_dataset, batch_size=32,shuffle=False)"
   ]
  },
  {
   "cell_type": "code",
   "execution_count": 40,
   "id": "3b16c68a",
   "metadata": {
    "execution": {
     "iopub.execute_input": "2024-09-29T18:11:46.875084Z",
     "iopub.status.busy": "2024-09-29T18:11:46.874472Z",
     "iopub.status.idle": "2024-09-29T18:11:46.941625Z",
     "shell.execute_reply": "2024-09-29T18:11:46.940712Z",
     "shell.execute_reply.started": "2024-09-29T18:11:46.875043Z"
    },
    "scrolled": true
   },
   "outputs": [
    {
     "name": "stderr",
     "output_type": "stream",
     "text": [
      "/tmp/ipykernel_30/2788366729.py:1: FutureWarning: You are using `torch.load` with `weights_only=False` (the current default value), which uses the default pickle module implicitly. It is possible to construct malicious pickle data which will execute arbitrary code during unpickling (See https://github.com/pytorch/pytorch/blob/main/SECURITY.md#untrusted-models for more details). In a future release, the default value for `weights_only` will be flipped to `True`. This limits the functions that could be executed during unpickling. Arbitrary objects will no longer be allowed to be loaded via this mode unless they are explicitly allowlisted by the user via `torch.serialization.add_safe_globals`. We recommend you start setting `weights_only=True` for any use case where you don't have full control of the loaded file. Please open an issue on GitHub for any issues related to this experimental feature.\n",
      "  checkpoint = torch.load(r\"/kaggle/working/models/epoch_4_loss_0.4130449585500173.pth\")\n"
     ]
    }
   ],
   "source": [
    "checkpoint = torch.load(r\"/kaggle/working/models/epoch_4_loss_0.4130449585500173.pth\")"
   ]
  },
  {
   "cell_type": "code",
   "execution_count": 41,
   "id": "a35440aa",
   "metadata": {
    "execution": {
     "iopub.execute_input": "2024-09-29T18:13:50.010670Z",
     "iopub.status.busy": "2024-09-29T18:13:50.010304Z",
     "iopub.status.idle": "2024-09-29T18:13:50.025949Z",
     "shell.execute_reply": "2024-09-29T18:13:50.025123Z",
     "shell.execute_reply.started": "2024-09-29T18:13:50.010635Z"
    },
    "id": "20b57c11-c158-48b1-b0e7-e400f2908577",
    "scrolled": true
   },
   "outputs": [
    {
     "data": {
      "text/plain": [
       "ResNet(\n",
       "  (conv1): Conv2d(3, 64, kernel_size=(7, 7), stride=(2, 2), padding=(3, 3), bias=False)\n",
       "  (bn1): BatchNorm2d(64, eps=1e-05, momentum=0.1, affine=True, track_running_stats=True)\n",
       "  (relu): ReLU(inplace=True)\n",
       "  (maxpool): MaxPool2d(kernel_size=3, stride=2, padding=1, dilation=1, ceil_mode=False)\n",
       "  (layer1): Sequential(\n",
       "    (0): BasicBlock(\n",
       "      (conv1): Conv2d(64, 64, kernel_size=(3, 3), stride=(1, 1), padding=(1, 1), bias=False)\n",
       "      (bn1): BatchNorm2d(64, eps=1e-05, momentum=0.1, affine=True, track_running_stats=True)\n",
       "      (relu): ReLU(inplace=True)\n",
       "      (conv2): Conv2d(64, 64, kernel_size=(3, 3), stride=(1, 1), padding=(1, 1), bias=False)\n",
       "      (bn2): BatchNorm2d(64, eps=1e-05, momentum=0.1, affine=True, track_running_stats=True)\n",
       "      (ca): ChannelAttention(\n",
       "        (avg_pool): AdaptiveAvgPool2d(output_size=1)\n",
       "        (max_pool): AdaptiveMaxPool2d(output_size=1)\n",
       "        (fc): Sequential(\n",
       "          (0): Conv2d(64, 4, kernel_size=(1, 1), stride=(1, 1), bias=False)\n",
       "          (1): ReLU()\n",
       "          (2): Conv2d(4, 64, kernel_size=(1, 1), stride=(1, 1), bias=False)\n",
       "        )\n",
       "        (sigmoid): Sigmoid()\n",
       "      )\n",
       "      (sa): SpatialAttention(\n",
       "        (conv1): Conv2d(2, 1, kernel_size=(7, 7), stride=(1, 1), padding=(3, 3), bias=False)\n",
       "        (sigmoid): Sigmoid()\n",
       "      )\n",
       "    )\n",
       "    (1): BasicBlock(\n",
       "      (conv1): Conv2d(64, 64, kernel_size=(3, 3), stride=(1, 1), padding=(1, 1), bias=False)\n",
       "      (bn1): BatchNorm2d(64, eps=1e-05, momentum=0.1, affine=True, track_running_stats=True)\n",
       "      (relu): ReLU(inplace=True)\n",
       "      (conv2): Conv2d(64, 64, kernel_size=(3, 3), stride=(1, 1), padding=(1, 1), bias=False)\n",
       "      (bn2): BatchNorm2d(64, eps=1e-05, momentum=0.1, affine=True, track_running_stats=True)\n",
       "      (ca): ChannelAttention(\n",
       "        (avg_pool): AdaptiveAvgPool2d(output_size=1)\n",
       "        (max_pool): AdaptiveMaxPool2d(output_size=1)\n",
       "        (fc): Sequential(\n",
       "          (0): Conv2d(64, 4, kernel_size=(1, 1), stride=(1, 1), bias=False)\n",
       "          (1): ReLU()\n",
       "          (2): Conv2d(4, 64, kernel_size=(1, 1), stride=(1, 1), bias=False)\n",
       "        )\n",
       "        (sigmoid): Sigmoid()\n",
       "      )\n",
       "      (sa): SpatialAttention(\n",
       "        (conv1): Conv2d(2, 1, kernel_size=(7, 7), stride=(1, 1), padding=(3, 3), bias=False)\n",
       "        (sigmoid): Sigmoid()\n",
       "      )\n",
       "    )\n",
       "  )\n",
       "  (layer2): Sequential(\n",
       "    (0): BasicBlock(\n",
       "      (conv1): Conv2d(64, 128, kernel_size=(3, 3), stride=(2, 2), padding=(1, 1), bias=False)\n",
       "      (bn1): BatchNorm2d(128, eps=1e-05, momentum=0.1, affine=True, track_running_stats=True)\n",
       "      (relu): ReLU(inplace=True)\n",
       "      (conv2): Conv2d(128, 128, kernel_size=(3, 3), stride=(1, 1), padding=(1, 1), bias=False)\n",
       "      (bn2): BatchNorm2d(128, eps=1e-05, momentum=0.1, affine=True, track_running_stats=True)\n",
       "      (ca): ChannelAttention(\n",
       "        (avg_pool): AdaptiveAvgPool2d(output_size=1)\n",
       "        (max_pool): AdaptiveMaxPool2d(output_size=1)\n",
       "        (fc): Sequential(\n",
       "          (0): Conv2d(128, 8, kernel_size=(1, 1), stride=(1, 1), bias=False)\n",
       "          (1): ReLU()\n",
       "          (2): Conv2d(8, 128, kernel_size=(1, 1), stride=(1, 1), bias=False)\n",
       "        )\n",
       "        (sigmoid): Sigmoid()\n",
       "      )\n",
       "      (sa): SpatialAttention(\n",
       "        (conv1): Conv2d(2, 1, kernel_size=(7, 7), stride=(1, 1), padding=(3, 3), bias=False)\n",
       "        (sigmoid): Sigmoid()\n",
       "      )\n",
       "      (downsample): Sequential(\n",
       "        (0): Conv2d(64, 128, kernel_size=(1, 1), stride=(2, 2), bias=False)\n",
       "        (1): BatchNorm2d(128, eps=1e-05, momentum=0.1, affine=True, track_running_stats=True)\n",
       "      )\n",
       "    )\n",
       "    (1): BasicBlock(\n",
       "      (conv1): Conv2d(128, 128, kernel_size=(3, 3), stride=(1, 1), padding=(1, 1), bias=False)\n",
       "      (bn1): BatchNorm2d(128, eps=1e-05, momentum=0.1, affine=True, track_running_stats=True)\n",
       "      (relu): ReLU(inplace=True)\n",
       "      (conv2): Conv2d(128, 128, kernel_size=(3, 3), stride=(1, 1), padding=(1, 1), bias=False)\n",
       "      (bn2): BatchNorm2d(128, eps=1e-05, momentum=0.1, affine=True, track_running_stats=True)\n",
       "      (ca): ChannelAttention(\n",
       "        (avg_pool): AdaptiveAvgPool2d(output_size=1)\n",
       "        (max_pool): AdaptiveMaxPool2d(output_size=1)\n",
       "        (fc): Sequential(\n",
       "          (0): Conv2d(128, 8, kernel_size=(1, 1), stride=(1, 1), bias=False)\n",
       "          (1): ReLU()\n",
       "          (2): Conv2d(8, 128, kernel_size=(1, 1), stride=(1, 1), bias=False)\n",
       "        )\n",
       "        (sigmoid): Sigmoid()\n",
       "      )\n",
       "      (sa): SpatialAttention(\n",
       "        (conv1): Conv2d(2, 1, kernel_size=(7, 7), stride=(1, 1), padding=(3, 3), bias=False)\n",
       "        (sigmoid): Sigmoid()\n",
       "      )\n",
       "    )\n",
       "  )\n",
       "  (layer3): Sequential(\n",
       "    (0): BasicBlock(\n",
       "      (conv1): Conv2d(128, 256, kernel_size=(3, 3), stride=(2, 2), padding=(1, 1), bias=False)\n",
       "      (bn1): BatchNorm2d(256, eps=1e-05, momentum=0.1, affine=True, track_running_stats=True)\n",
       "      (relu): ReLU(inplace=True)\n",
       "      (conv2): Conv2d(256, 256, kernel_size=(3, 3), stride=(1, 1), padding=(1, 1), bias=False)\n",
       "      (bn2): BatchNorm2d(256, eps=1e-05, momentum=0.1, affine=True, track_running_stats=True)\n",
       "      (ca): ChannelAttention(\n",
       "        (avg_pool): AdaptiveAvgPool2d(output_size=1)\n",
       "        (max_pool): AdaptiveMaxPool2d(output_size=1)\n",
       "        (fc): Sequential(\n",
       "          (0): Conv2d(256, 16, kernel_size=(1, 1), stride=(1, 1), bias=False)\n",
       "          (1): ReLU()\n",
       "          (2): Conv2d(16, 256, kernel_size=(1, 1), stride=(1, 1), bias=False)\n",
       "        )\n",
       "        (sigmoid): Sigmoid()\n",
       "      )\n",
       "      (sa): SpatialAttention(\n",
       "        (conv1): Conv2d(2, 1, kernel_size=(7, 7), stride=(1, 1), padding=(3, 3), bias=False)\n",
       "        (sigmoid): Sigmoid()\n",
       "      )\n",
       "      (downsample): Sequential(\n",
       "        (0): Conv2d(128, 256, kernel_size=(1, 1), stride=(2, 2), bias=False)\n",
       "        (1): BatchNorm2d(256, eps=1e-05, momentum=0.1, affine=True, track_running_stats=True)\n",
       "      )\n",
       "    )\n",
       "    (1): BasicBlock(\n",
       "      (conv1): Conv2d(256, 256, kernel_size=(3, 3), stride=(1, 1), padding=(1, 1), bias=False)\n",
       "      (bn1): BatchNorm2d(256, eps=1e-05, momentum=0.1, affine=True, track_running_stats=True)\n",
       "      (relu): ReLU(inplace=True)\n",
       "      (conv2): Conv2d(256, 256, kernel_size=(3, 3), stride=(1, 1), padding=(1, 1), bias=False)\n",
       "      (bn2): BatchNorm2d(256, eps=1e-05, momentum=0.1, affine=True, track_running_stats=True)\n",
       "      (ca): ChannelAttention(\n",
       "        (avg_pool): AdaptiveAvgPool2d(output_size=1)\n",
       "        (max_pool): AdaptiveMaxPool2d(output_size=1)\n",
       "        (fc): Sequential(\n",
       "          (0): Conv2d(256, 16, kernel_size=(1, 1), stride=(1, 1), bias=False)\n",
       "          (1): ReLU()\n",
       "          (2): Conv2d(16, 256, kernel_size=(1, 1), stride=(1, 1), bias=False)\n",
       "        )\n",
       "        (sigmoid): Sigmoid()\n",
       "      )\n",
       "      (sa): SpatialAttention(\n",
       "        (conv1): Conv2d(2, 1, kernel_size=(7, 7), stride=(1, 1), padding=(3, 3), bias=False)\n",
       "        (sigmoid): Sigmoid()\n",
       "      )\n",
       "    )\n",
       "  )\n",
       "  (attention): MultiheadAttention(\n",
       "    (out_proj): NonDynamicallyQuantizableLinear(in_features=256, out_features=256, bias=True)\n",
       "  )\n",
       "  (layer_norm): LayerNorm((256,), eps=1e-05, elementwise_affine=True)\n",
       "  (classifier): Linear(in_features=256, out_features=7, bias=True)\n",
       ")"
      ]
     },
     "execution_count": 41,
     "metadata": {},
     "output_type": "execute_result"
    }
   ],
   "source": [
    "model.load_state_dict(checkpoint['model_state_dict'])\n",
    "model.eval()"
   ]
  },
  {
   "cell_type": "code",
   "execution_count": 51,
   "id": "7760ca23",
   "metadata": {
    "execution": {
     "iopub.execute_input": "2024-09-29T18:28:42.513837Z",
     "iopub.status.busy": "2024-09-29T18:28:42.513183Z",
     "iopub.status.idle": "2024-09-29T18:28:54.332048Z",
     "shell.execute_reply": "2024-09-29T18:28:54.331086Z",
     "shell.execute_reply.started": "2024-09-29T18:28:42.513797Z"
    },
    "id": "3f08e78f-164c-44f4-ab33-76d3355754af"
   },
   "outputs": [
    {
     "name": "stderr",
     "output_type": "stream",
     "text": [
      "100%|██████████| 96/96 [00:11<00:00,  8.13it/s]\n"
     ]
    }
   ],
   "source": [
    "all_preds=[]\n",
    "all_labels=[]\n",
    "with torch.no_grad():\n",
    "    for images, labels in tqdm(test_loader):\n",
    "        images = images.to(device)\n",
    "        labels = labels.to(device)\n",
    "        outputs = model(images)\n",
    "        _, predicted = torch.max(outputs,1)\n",
    "#         predicted+=1\n",
    "        \n",
    "        all_preds.extend(predicted.cpu().numpy())\n",
    "        all_labels.extend(labels.cpu().numpy())\n",
    "\n",
    "all_preds = np.array(all_preds)\n",
    "all_labels = np.array(all_labels)"
   ]
  },
  {
   "cell_type": "code",
   "execution_count": 52,
   "id": "87f3d884",
   "metadata": {
    "execution": {
     "iopub.execute_input": "2024-09-29T18:29:02.323684Z",
     "iopub.status.busy": "2024-09-29T18:29:02.322897Z",
     "iopub.status.idle": "2024-09-29T18:29:02.331666Z",
     "shell.execute_reply": "2024-09-29T18:29:02.330574Z",
     "shell.execute_reply.started": "2024-09-29T18:29:02.323645Z"
    }
   },
   "outputs": [
    {
     "data": {
      "text/plain": [
       "0.7535853976531942"
      ]
     },
     "execution_count": 52,
     "metadata": {},
     "output_type": "execute_result"
    }
   ],
   "source": [
    "from sklearn.metrics import accuracy_score\n",
    "\n",
    "accuracy = accuracy_score(all_labels, all_preds)\n",
    "accuracy"
   ]
  },
  {
   "cell_type": "code",
   "execution_count": 56,
   "id": "0bca7b93",
   "metadata": {
    "execution": {
     "iopub.execute_input": "2024-09-29T18:30:06.766214Z",
     "iopub.status.busy": "2024-09-29T18:30:06.765811Z",
     "iopub.status.idle": "2024-09-29T18:30:06.772208Z",
     "shell.execute_reply": "2024-09-29T18:30:06.771238Z",
     "shell.execute_reply.started": "2024-09-29T18:30:06.766175Z"
    }
   },
   "outputs": [
    {
     "data": {
      "text/plain": [
       "0"
      ]
     },
     "execution_count": 56,
     "metadata": {},
     "output_type": "execute_result"
    }
   ],
   "source": [
    "all_preds.min()"
   ]
  },
  {
   "cell_type": "code",
   "execution_count": 57,
   "id": "60046335",
   "metadata": {
    "execution": {
     "iopub.execute_input": "2024-09-29T18:30:11.700927Z",
     "iopub.status.busy": "2024-09-29T18:30:11.700524Z",
     "iopub.status.idle": "2024-09-29T18:30:11.707431Z",
     "shell.execute_reply": "2024-09-29T18:30:11.706346Z",
     "shell.execute_reply.started": "2024-09-29T18:30:11.700881Z"
    }
   },
   "outputs": [
    {
     "data": {
      "text/plain": [
       "0"
      ]
     },
     "execution_count": 57,
     "metadata": {},
     "output_type": "execute_result"
    }
   ],
   "source": [
    "all_labels.min()"
   ]
  },
  {
   "cell_type": "code",
   "execution_count": null,
   "id": "5c717a85",
   "metadata": {},
   "outputs": [],
   "source": []
  },
  {
   "cell_type": "code",
   "execution_count": null,
   "id": "382ddf51",
   "metadata": {},
   "outputs": [],
   "source": []
  }
 ],
 "metadata": {
  "accelerator": "GPU",
  "colab": {
   "gpuType": "T4",
   "provenance": []
  },
  "kaggle": {
   "accelerator": "nvidiaTeslaT4",
   "dataSources": [
    {
     "datasetId": 3758654,
     "sourceId": 6504606,
     "sourceType": "datasetVersion"
    }
   ],
   "dockerImageVersionId": 30776,
   "isGpuEnabled": true,
   "isInternetEnabled": true,
   "language": "python",
   "sourceType": "notebook"
  },
  "kernelspec": {
   "display_name": "Python 3",
   "language": "python",
   "name": "python3"
  },
  "language_info": {
   "codemirror_mode": {
    "name": "ipython",
    "version": 3
   },
   "file_extension": ".py",
   "mimetype": "text/x-python",
   "name": "python",
   "nbconvert_exporter": "python",
   "pygments_lexer": "ipython3",
   "version": "3.10.14"
  }
 },
 "nbformat": 4,
 "nbformat_minor": 5
}
